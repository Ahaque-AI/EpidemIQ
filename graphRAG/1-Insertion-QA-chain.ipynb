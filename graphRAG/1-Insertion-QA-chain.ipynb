{
 "cells": [
  {
   "cell_type": "code",
   "execution_count": 1,
   "id": "20816899",
   "metadata": {},
   "outputs": [
    {
     "name": "stderr",
     "output_type": "stream",
     "text": [
      "c:\\Users\\ahaqu\\OneDrive\\Desktop\\kermit_tech\\kermitenv\\lib\\site-packages\\tqdm\\auto.py:21: TqdmWarning: IProgress not found. Please update jupyter and ipywidgets. See https://ipywidgets.readthedocs.io/en/stable/user_install.html\n",
      "  from .autonotebook import tqdm as notebook_tqdm\n"
     ]
    }
   ],
   "source": [
    "import pandas as pd\n",
    "from sentence_transformers import SentenceTransformer\n",
    "from neo4j import GraphDatabase\n",
    "import os\n",
    "from getpass import getpass"
   ]
  },
  {
   "cell_type": "code",
   "execution_count": 2,
   "id": "10d3fb24",
   "metadata": {},
   "outputs": [
    {
     "data": {
      "text/plain": [
       "True"
      ]
     },
     "execution_count": 2,
     "metadata": {},
     "output_type": "execute_result"
    }
   ],
   "source": [
    "import dotenv\n",
    "# Load environment variables from .env file\n",
    "dotenv.load_dotenv()"
   ]
  },
  {
   "cell_type": "code",
   "execution_count": 3,
   "id": "8ab498cc",
   "metadata": {},
   "outputs": [],
   "source": [
    "path = os.getcwd()\n",
    "full_path = path.replace('graphRAG', 'dataset\\health_reports_data.csv')\n",
    "df = pd.read_csv(full_path)"
   ]
  },
  {
   "cell_type": "code",
   "execution_count": 4,
   "id": "cf3f7f34",
   "metadata": {},
   "outputs": [],
   "source": [
    "# Standardize all text data to lowercase for consistency\n",
    "for col in ['actual_disease', 'intervention_target_disease', 'region', 'intervention_region', 'severity', 'day_of_week']:\n",
    "    df[col] = df[col].astype(str).str.lower()\n",
    "\n",
    "# Convert to datetime objects\n",
    "df['timestamp'] = pd.to_datetime(df['timestamp'])\n",
    "df['intervention_start_date'] = pd.to_datetime(df['intervention_start_date'].fillna(pd.Timestamp('1970-01-01')))\n",
    "\n",
    "# Add unique IDs\n",
    "df['case_id'] = [f\"case_{i}\" for i in range(len(df))]\n",
    "df['patient_id'] = [f\"patient_{i}\" for i in range(len(df))]"
   ]
  },
  {
   "cell_type": "code",
   "execution_count": 5,
   "id": "d7d89e78",
   "metadata": {},
   "outputs": [],
   "source": [
    "model = SentenceTransformer('all-MiniLM-L6-v2') "
   ]
  },
  {
   "cell_type": "code",
   "execution_count": 6,
   "id": "8fe7821e",
   "metadata": {},
   "outputs": [
    {
     "name": "stderr",
     "output_type": "stream",
     "text": [
      "Batches:   0%|          | 0/313 [00:00<?, ?it/s]"
     ]
    },
    {
     "name": "stderr",
     "output_type": "stream",
     "text": [
      "Batches: 100%|██████████| 313/313 [00:27<00:00, 11.28it/s]\n"
     ]
    }
   ],
   "source": [
    "df['symptom_embedding'] = model.encode(df['symptoms_text'].tolist(), show_progress_bar=True).tolist()"
   ]
  },
  {
   "cell_type": "code",
   "execution_count": 7,
   "id": "c06e99fb",
   "metadata": {},
   "outputs": [],
   "source": [
    "records = df.to_dict('records')"
   ]
  },
  {
   "cell_type": "code",
   "execution_count": 8,
   "id": "95560dbf",
   "metadata": {},
   "outputs": [],
   "source": [
    "disease_category_map = {\n",
    "    'gastroenteritis': 'Gastrointestinal',\n",
    "    'malaria': 'Parasitic',\n",
    "    'covid19': 'Viral',\n",
    "    'food_poisoning': 'Bacterial/Toxin-related',\n",
    "    'influenza': 'Viral',\n",
    "    'meningitis': 'Infectious',\n",
    "    'pneumonia': 'Respiratory'\n",
    "}"
   ]
  },
  {
   "cell_type": "code",
   "execution_count": 9,
   "id": "ce9eda3b",
   "metadata": {},
   "outputs": [],
   "source": [
    "for rec in records:\n",
    "    rec['disease_category'] = disease_category_map.get(rec['actual_disease'], 'Uncategorized')"
   ]
  },
  {
   "cell_type": "code",
   "execution_count": 10,
   "id": "6c9bdb7e",
   "metadata": {},
   "outputs": [],
   "source": [
    "NEO4J_URI      = os.getenv(\"NEO4J_URI\")\n",
    "NEO4J_USER     = os.getenv(\"NEO4J_USERNAME\")\n",
    "NEO4J_PASSWORD = os.getenv(\"NEO4J_PASSWORD\")"
   ]
  },
  {
   "cell_type": "code",
   "execution_count": 11,
   "id": "e5941487",
   "metadata": {},
   "outputs": [],
   "source": [
    "driver = GraphDatabase.driver(NEO4J_URI, auth=(NEO4J_USER, NEO4J_PASSWORD))"
   ]
  },
  {
   "cell_type": "code",
   "execution_count": 12,
   "id": "3ca546bc",
   "metadata": {},
   "outputs": [],
   "source": [
    "constraints = [\n",
    "    \"CREATE CONSTRAINT IF NOT EXISTS FOR (p:Patient) REQUIRE p.patientId IS UNIQUE\",\n",
    "    \"CREATE CONSTRAINT IF NOT EXISTS FOR (c:Case) REQUIRE c.caseId IS UNIQUE\",\n",
    "    \"CREATE CONSTRAINT IF NOT EXISTS FOR (d:Disease) REQUIRE d.name IS UNIQUE\",\n",
    "    \"CREATE CONSTRAINT IF NOT EXISTS FOR (s:Symptom) REQUIRE s.name IS UNIQUE\",\n",
    "    \"CREATE CONSTRAINT IF NOT EXISTS FOR (r:Region) REQUIRE r.name IS UNIQUE\",\n",
    "    \"CREATE CONSTRAINT IF NOT EXISTS FOR (i:Intervention) REQUIRE i.id IS UNIQUE\",\n",
    "    \"CREATE CONSTRAINT IF NOT EXISTS FOR (y:Year) REQUIRE y.year IS UNIQUE\",\n",
    "    \"CREATE CONSTRAINT IF NOT EXISTS FOR (sl:SeverityLevel) REQUIRE sl.level IS UNIQUE\",\n",
    "    \"CREATE CONSTRAINT IF NOT EXISTS FOR (dc:DiseaseCategory) REQUIRE dc.name IS UNIQUE\",\n",
    "]"
   ]
  },
  {
   "cell_type": "code",
   "execution_count": 13,
   "id": "1f244b04",
   "metadata": {},
   "outputs": [
    {
     "name": "stdout",
     "output_type": "stream",
     "text": [
      "Applied or verified constraint: (p:Patient) REQUIRE p.patientId IS UNIQUE\n",
      "Applied or verified constraint: (c:Case) REQUIRE c.caseId IS UNIQUE\n",
      "Applied or verified constraint: (d:Disease) REQUIRE d.name IS UNIQUE\n",
      "Applied or verified constraint: (s:Symptom) REQUIRE s.name IS UNIQUE\n",
      "Applied or verified constraint: (r:Region) REQUIRE r.name IS UNIQUE\n",
      "Applied or verified constraint: (i:Intervention) REQUIRE i.id IS UNIQUE\n",
      "Applied or verified constraint: (y:Year) REQUIRE y.year IS UNIQUE\n",
      "Applied or verified constraint: (sl:SeverityLevel) REQUIRE sl.level IS UNIQUE\n",
      "Applied or verified constraint: (dc:DiseaseCategory) REQUIRE dc.name IS UNIQUE\n"
     ]
    }
   ],
   "source": [
    "with driver.session(database=\"neo4j\") as session:\n",
    "    for constraint in constraints:\n",
    "        try:\n",
    "            session.run(constraint)\n",
    "            print(f\"Applied or verified constraint: {constraint.split('FOR')[1].strip()}\")\n",
    "        except Exception as e:\n",
    "            print(f\"Could not apply constraint: {constraint}. Error: {e}\")"
   ]
  },
  {
   "cell_type": "code",
   "execution_count": 14,
   "id": "d64ed53f",
   "metadata": {},
   "outputs": [],
   "source": [
    "ingestion_query = \"\"\"\n",
    "UNWIND $records AS row\n",
    "\n",
    "// MERGE core entities to prevent duplicates\n",
    "MERGE (patient:Patient {patientId: row.patient_id})\n",
    "    ON CREATE SET patient.age = toInteger(row.age), patient.gender = row.gender, patient.ageGroup = row.age_group\n",
    "MERGE (disease:Disease {name: row.actual_disease})\n",
    "MERGE (case_region:Region {name: row.region})\n",
    "MERGE (intervention_region:Region {name: row.intervention_region})\n",
    "MERGE (target_disease:Disease {name: row.intervention_target_disease})\n",
    "\n",
    "// MERGE conceptual nodes\n",
    "MERGE (severity:SeverityLevel {level: row.severity})\n",
    "MERGE (category:DiseaseCategory {name: row.disease_category})\n",
    "\n",
    "MERGE (intervention:Intervention {id: row.intervention_intervention_id})\n",
    "    ON CREATE SET\n",
    "        intervention.type = row.intervention_type,\n",
    "        intervention.startDate = date(row.intervention_start_date),\n",
    "        intervention.durationDays = toInteger(row.intervention_duration_days),\n",
    "        intervention.effectivenessScore = toFloat(row.intervention_effectiveness_score),\n",
    "        intervention.cost = toInteger(row.intervention_cost),\n",
    "        intervention.populationAffected = toInteger(row.intervention_population_affected),\n",
    "        intervention.complianceRate = toFloat(row.intervention_compliance_rate)\n",
    "\n",
    "// MERGE Time Tree nodes\n",
    "MERGE (year:Year {year: row.timestamp.year})\n",
    "MERGE (month:Month {month: row.timestamp.month})\n",
    "MERGE (day:Day {day: row.timestamp.day})\n",
    "MERGE (weekday:DayOfWeek {name: row.day_of_week})\n",
    "MERGE (hour:Hour {hour: row.hour})\n",
    "\n",
    "// CREATE the unique Case node for each row\n",
    "CREATE (case:Case {\n",
    "    caseId: row.case_id,\n",
    "    timestamp: datetime(row.timestamp),\n",
    "    location: point({latitude: toFloat(row.latitude), longitude: toFloat(row.longitude)}),\n",
    "    isOutbreakRelated: toBoolean(row.is_outbreak_related),\n",
    "    contactTracingNeeded: toBoolean(row.contact_tracing_needed),\n",
    "    hospitalizationRequired: toBoolean(row.hospitalization_required)\n",
    "})\n",
    "\n",
    "// Create the rich web of relationships\n",
    "MERGE (patient)-[:REPORTED]->(case)\n",
    "MERGE (case)-[:DIAGNOSED_WITH]->(disease)\n",
    "MERGE (case)-[:HAS_SEVERITY]->(severity)\n",
    "MERGE (case)-[:OCCURRED_IN]->(case_region)\n",
    "MERGE (case)-[:AFFECTED_BY]->(intervention)\n",
    "\n",
    "// Create time relationships\n",
    "MERGE (case)-[:OCCURRED_ON]->(day)\n",
    "MERGE (day)-[:OF_MONTH]->(month)\n",
    "MERGE (month)-[:OF_YEAR]->(year)\n",
    "MERGE (day)-[:IS_WEEKDAY]->(weekday)\n",
    "MERGE (case)-[:OCCURRED_AT_HOUR]->(hour)\n",
    "MERGE (case)-[:REPORTED_IN_YEAR]->(year) // Shortcut relationship\n",
    "\n",
    "// Create symptom relationships\n",
    "FOREACH (symptom_name IN row.symptoms_text |\n",
    "    MERGE (symptom:Symptom {name: symptom_name})\n",
    "    MERGE (case)-[:PRESENTED_SYMPTOM]->(symptom)\n",
    "    MERGE (symptom)-[:COMMON_MANIFESTATION_OF]->(disease) // Inverse link\n",
    ")\n",
    "\n",
    "// Create intervention relationships\n",
    "MERGE (intervention)-[:TARGETS_DISEASE]->(target_disease)\n",
    "MERGE (intervention)-[:APPLIED_IN]->(intervention_region)\n",
    "\n",
    "// Create conceptual & inferred relationships\n",
    "MERGE (disease)-[:IS_A_TYPE_OF]->(category)\n",
    "MERGE (patient)-[:LIVES_IN]->(case_region)\n",
    "MERGE (patient)-[:HAS_HISTORY_OF]->(disease)\n",
    "MERGE (disease)-[:PREVALENT_IN]->(case_region)\n",
    "\"\"\""
   ]
  },
  {
   "cell_type": "code",
   "execution_count": 15,
   "id": "777c2989",
   "metadata": {},
   "outputs": [],
   "source": [
    "def ingest_data_in_batches(driver, query, data, batch_size=500):\n",
    "    total = len(data)\n",
    "    print(f\"Starting ingestion of {total} records with the hyper-robust schema...\")\n",
    "    with driver.session(database=\"neo4j\") as session:\n",
    "        for i in range(0, total, batch_size):\n",
    "            batch = data[i:min(i + batch_size, total)]\n",
    "            session.run(query, records=batch)\n",
    "            print(f\"Processed {len(batch)} records. ({i + len(batch)}/{total})\")"
   ]
  },
  {
   "cell_type": "code",
   "execution_count": 16,
   "id": "0457c004",
   "metadata": {},
   "outputs": [
    {
     "name": "stdout",
     "output_type": "stream",
     "text": [
      "Starting ingestion of 10000 records with the hyper-robust schema...\n",
      "Processed 500 records. (500/10000)\n",
      "Processed 500 records. (1000/10000)\n",
      "Processed 500 records. (1500/10000)\n",
      "Processed 500 records. (2000/10000)\n",
      "Processed 500 records. (2500/10000)\n",
      "Processed 500 records. (3000/10000)\n",
      "Processed 500 records. (3500/10000)\n",
      "Processed 500 records. (4000/10000)\n",
      "Processed 500 records. (4500/10000)\n",
      "Processed 500 records. (5000/10000)\n",
      "Processed 500 records. (5500/10000)\n",
      "Processed 500 records. (6000/10000)\n",
      "Processed 500 records. (6500/10000)\n",
      "Processed 500 records. (7000/10000)\n",
      "Processed 500 records. (7500/10000)\n",
      "Processed 500 records. (8000/10000)\n",
      "Processed 500 records. (8500/10000)\n",
      "Processed 500 records. (9000/10000)\n",
      "Processed 500 records. (9500/10000)\n",
      "Processed 500 records. (10000/10000)\n",
      "\n",
      "Ingestion complete. Your graph is now ready for advanced querying.\n"
     ]
    }
   ],
   "source": [
    "ingest_data_in_batches(driver, ingestion_query, records, batch_size=500)\n",
    "print(\"\\nIngestion complete. Your graph is now ready for advanced querying.\")\n",
    "driver.close()"
   ]
  },
  {
   "cell_type": "code",
   "execution_count": 2,
   "id": "85bd6f1c",
   "metadata": {},
   "outputs": [
    {
     "name": "stderr",
     "output_type": "stream",
     "text": [
      "c:\\Users\\ahaqu\\OneDrive\\Desktop\\kermit_tech\\kermitenv\\lib\\site-packages\\tqdm\\auto.py:21: TqdmWarning: IProgress not found. Please update jupyter and ipywidgets. See https://ipywidgets.readthedocs.io/en/stable/user_install.html\n",
      "  from .autonotebook import tqdm as notebook_tqdm\n"
     ]
    }
   ],
   "source": [
    "import os\n",
    "from langchain_google_genai import ChatGoogleGenerativeAI\n",
    "from langchain.chains import GraphCypherQAChain\n",
    "from langchain_community.graphs import Neo4jGraph\n",
    "from langchain_groq import ChatGroq\n",
    "from langchain.prompts import PromptTemplate"
   ]
  },
  {
   "cell_type": "code",
   "execution_count": 3,
   "id": "a0c70bcb",
   "metadata": {},
   "outputs": [],
   "source": [
    "os.environ[\"GOOGLE_API_KEY\"] = os.getenv(\"GOOGLE_API_KEY\")\n",
    "os.environ[\"GROQ_API_KEY\"] = os.getenv(\"GROQ_API_KEY\")"
   ]
  },
  {
   "cell_type": "code",
   "execution_count": 4,
   "id": "4ad20824",
   "metadata": {},
   "outputs": [
    {
     "name": "stderr",
     "output_type": "stream",
     "text": [
      "C:\\Users\\ahaqu\\AppData\\Local\\Temp\\ipykernel_17612\\1891428019.py:1: LangChainDeprecationWarning: The class `Neo4jGraph` was deprecated in LangChain 0.3.8 and will be removed in 1.0. An updated version of the class exists in the :class:`~langchain-neo4j package and should be used instead. To use it run `pip install -U :class:`~langchain-neo4j` and import as `from :class:`~langchain_neo4j import Neo4jGraph``.\n",
      "  graph = Neo4jGraph(\n"
     ]
    }
   ],
   "source": [
    "graph = Neo4jGraph(\n",
    "    url=os.getenv(\"NEO4J_URI\"), \n",
    "    username=\"neo4j\", \n",
    "    password=os.getenv(\"NEO4J_PASSWORD\")\n",
    ")"
   ]
  },
  {
   "cell_type": "code",
   "execution_count": 5,
   "id": "b24f12ed",
   "metadata": {},
   "outputs": [
    {
     "name": "stdout",
     "output_type": "stream",
     "text": [
      "Node properties:\n",
      "Disease {name: STRING}\n",
      "Region {name: STRING}\n",
      "Intervention {id: STRING, type: STRING, cost: INTEGER, startDate: DATE, durationDays: INTEGER, effectivenessScore: FLOAT, populationAffected: INTEGER, complianceRate: FLOAT}\n",
      "Symptom {name: STRING}\n",
      "Year {year: INTEGER}\n",
      "Month {month: INTEGER}\n",
      "Day {day: INTEGER}\n",
      "DayOfWeek {name: STRING}\n",
      "Hour {hour: INTEGER}\n",
      "Case {timestamp: DATE_TIME, caseId: STRING, contactTracingNeeded: BOOLEAN, location: POINT, isOutbreakRelated: BOOLEAN, hospitalizationRequired: BOOLEAN}\n",
      "Patient {gender: STRING, age: INTEGER, patientId: STRING, ageGroup: STRING}\n",
      "SeverityLevel {level: STRING}\n",
      "DiseaseCategory {name: STRING}\n",
      "Relationship properties:\n",
      "\n",
      "The relationships:\n",
      "(:Disease)-[:IS_A_TYPE_OF]->(:DiseaseCategory)\n",
      "(:Disease)-[:PREVALENT_IN]->(:Region)\n",
      "(:Intervention)-[:APPLIED_IN]->(:Region)\n",
      "(:Intervention)-[:TARGETS_DISEASE]->(:Disease)\n",
      "(:Symptom)-[:COMMON_MANIFESTATION_OF]->(:Disease)\n",
      "(:Month)-[:OF_YEAR]->(:Year)\n",
      "(:Day)-[:OF_MONTH]->(:Month)\n",
      "(:Day)-[:IS_WEEKDAY]->(:DayOfWeek)\n",
      "(:Case)-[:REPORTED_IN_YEAR]->(:Year)\n",
      "(:Case)-[:PRESENTED_SYMPTOM]->(:Symptom)\n",
      "(:Case)-[:OCCURRED_IN]->(:Region)\n",
      "(:Case)-[:AFFECTED_BY]->(:Intervention)\n",
      "(:Case)-[:DIAGNOSED_WITH]->(:Disease)\n",
      "(:Case)-[:HAS_SEVERITY]->(:SeverityLevel)\n",
      "(:Case)-[:OCCURRED_ON]->(:Day)\n",
      "(:Case)-[:OCCURRED_AT_HOUR]->(:Hour)\n",
      "(:Patient)-[:REPORTED]->(:Case)\n",
      "(:Patient)-[:LIVES_IN]->(:Region)\n",
      "(:Patient)-[:HAS_HISTORY_OF]->(:Disease)\n"
     ]
    }
   ],
   "source": [
    "graph.refresh_schema()\n",
    "print(graph.schema)"
   ]
  },
  {
   "cell_type": "code",
   "execution_count": 6,
   "id": "3ef3583b",
   "metadata": {},
   "outputs": [],
   "source": [
    "llm = ChatGoogleGenerativeAI(model=\"gemini-2.5-flash-preview-04-17\")"
   ]
  },
  {
   "cell_type": "code",
   "execution_count": 7,
   "id": "d46addf7",
   "metadata": {},
   "outputs": [],
   "source": [
    "llm = ChatGroq(\n",
    "    groq_api_key=os.environ.get('GROQ_API'),\n",
    "    model_name='meta-llama/llama-4-maverick-17b-128e-instruct'\n",
    ")"
   ]
  },
  {
   "cell_type": "code",
   "execution_count": 8,
   "id": "000398e5",
   "metadata": {},
   "outputs": [],
   "source": [
    "CYPHER_GENERATION_TEMPLATE_XML = \"\"\"<cypher_generation_prompt>\n",
    "    <instructions>\n",
    "        <title>Instructions for Neo4j Cypher Query Generation</title>\n",
    "        <rule>You are a world-class Neo4j Cypher query translator. Your sole purpose is to convert a user's question into a valid and efficient Cypher query based on the provided graph schema.</rule>\n",
    "        <rule>Strictly adhere to the schema. Never use node labels, relationship types, or property names that are not explicitly defined in the `<schema>` block.</rule>\n",
    "        <important rule>If a user asks for anything related to a region, e.g., 'coastal region', you must insert an underscore and write 'coastal_region' in the query.</important rule>\n",
    "        <rule>Your output MUST be a single, valid Cypher query and nothing else.</rule>\n",
    "    </instructions>\n",
    "\n",
    "    <schema>\n",
    "        {schema}\n",
    "    </schema>\n",
    "\n",
    "    <task>\n",
    "        <title>Current Task</title>\n",
    "        <question>{question}</question>\n",
    "        <cypher>\n",
    "        </cypher>\n",
    "    </task>\n",
    "</cypher_generation_prompt>\"\"\"\n"
   ]
  },
  {
   "cell_type": "code",
   "execution_count": 9,
   "id": "0f4291b2",
   "metadata": {},
   "outputs": [],
   "source": [
    "cypher_prompt = PromptTemplate(\n",
    "    input_variables=[\"schema\", \"question\"],\n",
    "    template=CYPHER_GENERATION_TEMPLATE_XML\n",
    ")"
   ]
  },
  {
   "cell_type": "code",
   "execution_count": 10,
   "id": "7cad6774",
   "metadata": {},
   "outputs": [],
   "source": [
    "chain = GraphCypherQAChain.from_llm(\n",
    "    graph=graph,\n",
    "    llm=llm,\n",
    "    verbose=True, \n",
    "    cypher_prompt=cypher_prompt,\n",
    "    allow_dangerous_requests=True\n",
    ")"
   ]
  },
  {
   "cell_type": "code",
   "execution_count": 11,
   "id": "5145bbf9",
   "metadata": {},
   "outputs": [],
   "source": [
    "def ask_question(query: str):\n",
    "    \"\"\"\n",
    "    Invokes the QA chain and prints the result in a user-friendly format.\n",
    "    \"\"\"\n",
    "    try:\n",
    "        result = chain.invoke({\"query\": query})\n",
    "        print(f\"❓ Question: {query}\")\n",
    "        # The final answer is in the 'result' key\n",
    "        print(f\"🤖 Answer: {result['result']}\")\n",
    "    except Exception as e:\n",
    "        print(f\"An error occurred: {e}\")\n",
    "    print(\"-\" * 50)"
   ]
  },
  {
   "cell_type": "code",
   "execution_count": 12,
   "id": "48159f64",
   "metadata": {},
   "outputs": [
    {
     "name": "stdout",
     "output_type": "stream",
     "text": [
      "Running corrected queries...\n",
      "\n",
      "\n",
      "\n",
      "\u001b[1m> Entering new GraphCypherQAChain chain...\u001b[0m\n",
      "Generated Cypher:\n",
      "\u001b[32;1m\u001b[1;3mcypher\n",
      "MATCH (d:Disease {name: 'covid19'})<-[:DIAGNOSED_WITH]-(c:Case)-[:REPORTED_IN_YEAR]->(y:Year)\n",
      "RETURN COUNT(c) AS num_cases, y.year AS year, c.timestamp AS timestamp\n",
      "ORDER BY y.year\n",
      "\u001b[0m\n",
      "Full Context:\n",
      "\u001b[32;1m\u001b[1;3m[{'num_cases': 1, 'year': 2020, 'timestamp': neo4j.time.DateTime(2020, 6, 5, 0, 0, 0, 0, tzinfo=<UTC>)}, {'num_cases': 1, 'year': 2020, 'timestamp': neo4j.time.DateTime(2020, 9, 11, 0, 0, 0, 0, tzinfo=<UTC>)}, {'num_cases': 1, 'year': 2020, 'timestamp': neo4j.time.DateTime(2020, 11, 20, 0, 0, 0, 0, tzinfo=<UTC>)}, {'num_cases': 1, 'year': 2020, 'timestamp': neo4j.time.DateTime(2020, 7, 15, 0, 0, 0, 0, tzinfo=<UTC>)}, {'num_cases': 2, 'year': 2020, 'timestamp': neo4j.time.DateTime(2020, 5, 8, 0, 0, 0, 0, tzinfo=<UTC>)}, {'num_cases': 2, 'year': 2020, 'timestamp': neo4j.time.DateTime(2020, 3, 1, 0, 0, 0, 0, tzinfo=<UTC>)}, {'num_cases': 1, 'year': 2020, 'timestamp': neo4j.time.DateTime(2020, 3, 30, 0, 0, 0, 0, tzinfo=<UTC>)}, {'num_cases': 2, 'year': 2020, 'timestamp': neo4j.time.DateTime(2020, 1, 28, 0, 0, 0, 0, tzinfo=<UTC>)}, {'num_cases': 2, 'year': 2020, 'timestamp': neo4j.time.DateTime(2020, 3, 28, 0, 0, 0, 0, tzinfo=<UTC>)}, {'num_cases': 2, 'year': 2020, 'timestamp': neo4j.time.DateTime(2020, 7, 28, 0, 0, 0, 0, tzinfo=<UTC>)}]\u001b[0m\n",
      "\n",
      "\u001b[1m> Finished chain.\u001b[0m\n",
      "❓ Question: how many cases were reported for covid19 and tell which year and month it was reported in?\n",
      "🤖 Answer: The number of cases reported for COVID-19 were 2 in January 2020, 2 in March 2020, 1 in March 2020, 2 in March 2020, 2 in May 2020, 1 in June 2020, 1 in July 2020, 2 in July 2020, 1 in September 2020, and 1 in November 2020.\n",
      "--------------------------------------------------\n",
      "\n",
      "\n",
      "\u001b[1m> Entering new GraphCypherQAChain chain...\u001b[0m\n",
      "Generated Cypher:\n",
      "\u001b[32;1m\u001b[1;3mMATCH (d:Disease {name: 'malaria'})<-[:TARGETS_DISEASE]-(i:Intervention) RETURN i.effectivenessScore\u001b[0m\n",
      "Full Context:\n",
      "\u001b[32;1m\u001b[1;3m[{'i.effectivenessScore': 0.5851193322245946}, {'i.effectivenessScore': 0.3729325388644166}, {'i.effectivenessScore': 0.6149183865345561}, {'i.effectivenessScore': 0.8248407441196851}, {'i.effectivenessScore': 0.1134478307654476}, {'i.effectivenessScore': 0.246370961652597}, {'i.effectivenessScore': 0.5649859929326987}, {'i.effectivenessScore': 0.5523662193438452}, {'i.effectivenessScore': 0.5336994319967874}, {'i.effectivenessScore': 0.7384727898478153}]\u001b[0m\n",
      "\n",
      "\u001b[1m> Finished chain.\u001b[0m\n",
      "❓ Question: What was the effectiveness score for interventions targeting malaria?\n",
      "🤖 Answer: The effectiveness scores were 0.5851193322245946, 0.3729325388644166, 0.6149183865345561, 0.8248407441196851, 0.1134478307654476, 0.246370961652597, 0.5649859929326987, 0.5523662193438452, 0.5336994319967874, 0.7384727898478153.\n",
      "--------------------------------------------------\n",
      "\n",
      "\n",
      "\u001b[1m> Entering new GraphCypherQAChain chain...\u001b[0m\n",
      "Generated Cypher:\n",
      "\u001b[32;1m\u001b[1;3mcypher\n",
      "MATCH (r:Region {name: 'coastal_region'})<-[:OCCURRED_IN]-(c:Case)-[:DIAGNOSED_WITH]->(d:Disease),\n",
      "      (c)-[:REPORTED_IN_YEAR]->(y:Year),\n",
      "      (m:Month {month: 5})-[:OF_YEAR]->(y)\n",
      "RETURN d.name, COUNT(c) AS count\n",
      "ORDER BY count DESC\n",
      "LIMIT 1\n",
      "\u001b[0m\n",
      "Full Context:\n",
      "\u001b[32;1m\u001b[1;3m[{'d.name': 'malaria', 'count': 428}]\u001b[0m\n",
      "\n",
      "\u001b[1m> Finished chain.\u001b[0m\n",
      "❓ Question: Which disease was most common in the coastal region in May?\n",
      "🤖 Answer: Malaria was the most common disease.\n",
      "--------------------------------------------------\n",
      "\n",
      "\n",
      "\u001b[1m> Entering new GraphCypherQAChain chain...\u001b[0m\n",
      "Generated Cypher:\n",
      "\u001b[32;1m\u001b[1;3mMATCH (p:Patient)-[:REPORTED]->(:Case)-[:DIAGNOSED_WITH]->(d:Disease {name: 'malaria'}) WHERE p.gender = 'male' RETURN avg(p.age)\u001b[0m\n",
      "Full Context:\n",
      "\u001b[32;1m\u001b[1;3m[{'avg(p.age)': 39.42036553524803}]\u001b[0m\n",
      "\n",
      "\u001b[1m> Finished chain.\u001b[0m\n",
      "❓ Question: What is the average age of male patients diagnosed with malaria?\n",
      "🤖 Answer: The average age is 39.42 years.\n",
      "--------------------------------------------------\n"
     ]
    }
   ],
   "source": [
    "print(\"Running corrected queries...\\n\")\n",
    "\n",
    "# Test 1: The COVID-19 query \n",
    "ask_question(\"how many cases were reported for covid19 and tell which year and month it was reported in?\")\n",
    "\n",
    "# Test 2: The Intervention query \n",
    "ask_question(\"What was the effectiveness score for interventions targeting malaria?\")\n",
    "\n",
    "# Test 3: Other queries\n",
    "ask_question(\"Which disease was most common in the coastal region in May?\")\n",
    "ask_question(\"What is the average age of male patients diagnosed with malaria?\")"
   ]
  },
  {
   "cell_type": "code",
   "execution_count": 13,
   "id": "7f22ead0",
   "metadata": {},
   "outputs": [
    {
     "name": "stdout",
     "output_type": "stream",
     "text": [
      "\n",
      "\n",
      "\u001b[1m> Entering new GraphCypherQAChain chain...\u001b[0m\n",
      "Generated Cypher:\n",
      "\u001b[32;1m\u001b[1;3mMATCH (d:Disease {name: 'pneumonia'})<-[:DIAGNOSED_WITH]-(c:Case)-[:PRESENTED_SYMPTOM]->(s:Symptom)\n",
      "RETURN s.name, COUNT(s) AS symptom_count\n",
      "ORDER BY symptom_count DESC\n",
      "LIMIT 1\u001b[0m\n",
      "Full Context:\n",
      "\u001b[32;1m\u001b[1;3m[{'s.name': 'Patient presents with chest discomfort, high temperature, cough with phlegm and chills', 'symptom_count': 4}]\u001b[0m\n",
      "\n",
      "\u001b[1m> Finished chain.\u001b[0m\n",
      "❓ Question: What is the most common symptom for patients diagnosed with pneumonia?\n",
      "🤖 Answer: Patients diagnosed with pneumonia commonly present with chest discomfort, high temperature, cough with phlegm, and chills. The most common symptoms are likely related to these four, with the patient in the given case having 4 symptoms. However, to directly answer the question, the data shows that the patient presents with 4 symptoms, but it doesn't specify one as more common than the others. A more accurate interpretation would be that the patient presents with multiple symptoms including chest discomfort, high temperature, cough with phlegm, and chills. Since we can't determine the single most common symptom from the given data, we can say the symptoms include chest discomfort, high temperature, cough with phlegm, and chills.\n",
      "--------------------------------------------------\n"
     ]
    }
   ],
   "source": [
    "ask_question(\"What is the most common symptom for patients diagnosed with pneumonia?\")"
   ]
  },
  {
   "cell_type": "code",
   "execution_count": 16,
   "id": "58c41ec4",
   "metadata": {},
   "outputs": [
    {
     "name": "stdout",
     "output_type": "stream",
     "text": [
      "\n",
      "\n",
      "\u001b[1m> Entering new GraphCypherQAChain chain...\u001b[0m\n",
      "Generated Cypher:\n",
      "\u001b[32;1m\u001b[1;3mMATCH (d:Disease)<-[:DIAGNOSED_WITH]-(c:Case)-[:REPORTED_IN_YEAR]->(y:Year)\n",
      "WHERE y.year = 2023\n",
      "RETURN d.name AS diseaseName, COUNT(c) AS caseCount\n",
      "ORDER BY caseCount DESC\n",
      "LIMIT 1\u001b[0m\n",
      "Full Context:\n",
      "\u001b[32;1m\u001b[1;3m[{'diseaseName': 'gastroenteritis', 'caseCount': 1144}]\u001b[0m\n",
      "\n",
      "\u001b[1m> Finished chain.\u001b[0m\n",
      "❓ Question: What was the most common disease reported in the year 2023?\n",
      "🤖 Answer: The most common disease reported was gastroenteritis.\n",
      "--------------------------------------------------\n"
     ]
    }
   ],
   "source": [
    "ask_question(\"What was the most common disease reported in the year 2023?\")"
   ]
  },
  {
   "cell_type": "code",
   "execution_count": 17,
   "id": "537116dd",
   "metadata": {},
   "outputs": [
    {
     "name": "stdout",
     "output_type": "stream",
     "text": [
      "\n",
      "\n",
      "\u001b[1m> Entering new GraphCypherQAChain chain...\u001b[0m\n",
      "Generated Cypher:\n",
      "\u001b[32;1m\u001b[1;3mcypher\n",
      "MATCH (d:Disease {name: 'pneumonia'})<-[:DIAGNOSED_WITH]-(c:Case)-[:PRESENTED_SYMPTOM]->(s:Symptom),\n",
      "      (c:Case)-[:REPORTED_IN_YEAR]->(y:Year)\n",
      "WHERE y.year = date().year - 1\n",
      "RETURN s.name, COUNT(c) AS symptom_count\n",
      "ORDER BY symptom_count DESC\n",
      "LIMIT 1\n",
      "\u001b[0m\n",
      "Full Context:\n",
      "\u001b[32;1m\u001b[1;3m[{'s.name': 'Clinical presentation: cough with phlegm, chills and chest pain', 'symptom_count': 2}]\u001b[0m\n",
      "\n",
      "\u001b[1m> Finished chain.\u001b[0m\n",
      "❓ Question: What is the most common symptom for patients diagnosed with pneumonia in the last year?\n",
      "🤖 Answer: The most common symptoms are cough with phlegm, chills, and chest pain.\n",
      "--------------------------------------------------\n"
     ]
    }
   ],
   "source": [
    "ask_question(\"What is the most common symptom for patients diagnosed with pneumonia in the last year?\")"
   ]
  }
 ],
 "metadata": {
  "kernelspec": {
   "display_name": "kermitenv",
   "language": "python",
   "name": "python3"
  },
  "language_info": {
   "codemirror_mode": {
    "name": "ipython",
    "version": 3
   },
   "file_extension": ".py",
   "mimetype": "text/x-python",
   "name": "python",
   "nbconvert_exporter": "python",
   "pygments_lexer": "ipython3",
   "version": "3.10.0"
  }
 },
 "nbformat": 4,
 "nbformat_minor": 5
}
