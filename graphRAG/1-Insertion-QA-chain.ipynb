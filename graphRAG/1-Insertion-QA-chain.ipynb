{
 "cells": [
  {
   "cell_type": "markdown",
   "id": "00c4d707",
   "metadata": {},
   "source": [
    "# Insertion of graph into Neo4j"
   ]
  },
  {
   "cell_type": "code",
   "execution_count": 65,
   "id": "20816899",
   "metadata": {},
   "outputs": [],
   "source": [
    "import pandas as pd\n",
    "from neo4j import GraphDatabase\n",
    "import os\n",
    "from getpass import getpass"
   ]
  },
  {
   "cell_type": "code",
   "execution_count": 66,
   "id": "10d3fb24",
   "metadata": {},
   "outputs": [
    {
     "data": {
      "text/plain": [
       "True"
      ]
     },
     "execution_count": 66,
     "metadata": {},
     "output_type": "execute_result"
    }
   ],
   "source": [
    "import dotenv\n",
    "# Load environment variables from .env file\n",
    "dotenv.load_dotenv()"
   ]
  },
  {
   "cell_type": "code",
   "execution_count": 67,
   "id": "8ab498cc",
   "metadata": {},
   "outputs": [],
   "source": [
    "path = os.getcwd()\n",
    "full_path = path.replace('graphRAG', 'dataset\\health_reports_data.csv')\n",
    "df = pd.read_csv(full_path)"
   ]
  },
  {
   "cell_type": "code",
   "execution_count": 68,
   "id": "cf3f7f34",
   "metadata": {},
   "outputs": [],
   "source": [
    "# Standardize all text data to lowercase for consistency\n",
    "for col in ['actual_disease', 'intervention_target_disease', 'region', 'intervention_region', 'severity', 'day_of_week']:\n",
    "    df[col] = df[col].astype(str).str.lower()\n",
    "\n",
    "# Convert to datetime objects\n",
    "df['timestamp'] = pd.to_datetime(df['timestamp'])\n",
    "df['intervention_start_date'] = pd.to_datetime(df['intervention_start_date'].fillna(pd.Timestamp('1970-01-01')))\n",
    "\n",
    "# Add unique IDs\n",
    "df['case_id'] = [f\"case_{i}\" for i in range(len(df))]\n",
    "df['patient_id'] = [f\"patient_{i}\" for i in range(len(df))]"
   ]
  },
  {
   "cell_type": "code",
   "execution_count": 69,
   "id": "c06e99fb",
   "metadata": {},
   "outputs": [],
   "source": [
    "records = df.to_dict('records')"
   ]
  },
  {
   "cell_type": "code",
   "execution_count": 43,
   "id": "6c9bdb7e",
   "metadata": {},
   "outputs": [],
   "source": [
    "NEO4J_URI      = os.getenv(\"NEO4J_URI\")\n",
    "NEO4J_USER     = os.getenv(\"NEO4J_USERNAME\")\n",
    "NEO4J_PASSWORD = os.getenv(\"NEO4J_PASSWORD\")"
   ]
  },
  {
   "cell_type": "code",
   "execution_count": 32,
   "id": "e5941487",
   "metadata": {},
   "outputs": [],
   "source": [
    "driver = GraphDatabase.driver(NEO4J_URI, auth=(NEO4J_USER, NEO4J_PASSWORD))"
   ]
  },
  {
   "cell_type": "code",
   "execution_count": 33,
   "id": "3ca546bc",
   "metadata": {},
   "outputs": [],
   "source": [
    "constraints = [\n",
    "    \"CREATE CONSTRAINT IF NOT EXISTS FOR (p:Patient) REQUIRE p.patientId IS UNIQUE\",\n",
    "    \"CREATE CONSTRAINT IF NOT EXISTS FOR (c:Case) REQUIRE c.caseId IS UNIQUE\",\n",
    "    \"CREATE CONSTRAINT IF NOT EXISTS FOR (d:Disease) REQUIRE d.name IS UNIQUE\",\n",
    "    \"CREATE CONSTRAINT IF NOT EXISTS FOR (s:Symptom) REQUIRE s.name IS UNIQUE\",\n",
    "    \"CREATE CONSTRAINT IF NOT EXISTS FOR (r:Region) REQUIRE r.name IS UNIQUE\",\n",
    "    \"CREATE CONSTRAINT IF NOT EXISTS FOR (i:Intervention) REQUIRE i.id IS UNIQUE\",\n",
    "    \"CREATE CONSTRAINT IF NOT EXISTS FOR (y:Year) REQUIRE y.year IS UNIQUE\",\n",
    "    \"CREATE CONSTRAINT IF NOT EXISTS FOR (sl:SeverityLevel) REQUIRE sl.level IS UNIQUE\",\n",
    "    \"CREATE CONSTRAINT IF NOT EXISTS FOR (dc:DiseaseCategory) REQUIRE dc.name IS UNIQUE\",\n",
    "]"
   ]
  },
  {
   "cell_type": "code",
   "execution_count": 34,
   "id": "1f244b04",
   "metadata": {},
   "outputs": [
    {
     "name": "stdout",
     "output_type": "stream",
     "text": [
      "Applied or verified constraint: (p:Patient) REQUIRE p.patientId IS UNIQUE\n",
      "Applied or verified constraint: (c:Case) REQUIRE c.caseId IS UNIQUE\n",
      "Applied or verified constraint: (d:Disease) REQUIRE d.name IS UNIQUE\n",
      "Applied or verified constraint: (s:Symptom) REQUIRE s.name IS UNIQUE\n",
      "Applied or verified constraint: (r:Region) REQUIRE r.name IS UNIQUE\n",
      "Applied or verified constraint: (i:Intervention) REQUIRE i.id IS UNIQUE\n",
      "Applied or verified constraint: (y:Year) REQUIRE y.year IS UNIQUE\n",
      "Applied or verified constraint: (sl:SeverityLevel) REQUIRE sl.level IS UNIQUE\n",
      "Applied or verified constraint: (dc:DiseaseCategory) REQUIRE dc.name IS UNIQUE\n"
     ]
    }
   ],
   "source": [
    "with driver.session(database=\"neo4j\") as session:\n",
    "    for constraint in constraints:\n",
    "        try:\n",
    "            session.run(constraint)\n",
    "            print(f\"Applied or verified constraint: {constraint.split('FOR')[1].strip()}\")\n",
    "        except Exception as e:\n",
    "            print(f\"Could not apply constraint: {constraint}. Error: {e}\")"
   ]
  },
  {
   "cell_type": "code",
   "execution_count": 70,
   "id": "d64ed53f",
   "metadata": {},
   "outputs": [],
   "source": [
    "ingestion_query = \"\"\"\n",
    "UNWIND $records AS row\n",
    "\n",
    "// 1. MERGE core entities\n",
    "MERGE (patient:Patient {patientId: row.patient_id})\n",
    "  ON CREATE SET\n",
    "    patient.age      = toInteger(row.age),\n",
    "    patient.ageGroup = row.age_group,\n",
    "    patient.gender   = row.gender\n",
    "\n",
    "MERGE (disease:Disease {name: row.actual_disease})\n",
    "MERGE (case_region:Region   {name: row.region})\n",
    "MERGE (intervention_region:Region {name: row.intervention_region})\n",
    "MERGE (target_disease:Disease {name: row.intervention_target_disease})\n",
    "\n",
    "// 2. MERGE conceptual/category nodes\n",
    "MERGE (severity:SeverityLevel   {level: row.severity})\n",
    "MERGE (category:DiseaseCategory {name: row.disease_category})\n",
    "\n",
    "// 3. MERGE demographic nodes\n",
    "MERGE (ageGroupNode:AgeGroup {name: row.age_group})\n",
    "MERGE (genderNode:Gender   {value: row.gender})\n",
    "\n",
    "// 4. MERGE intervention node\n",
    "MERGE (intervention:Intervention {id: row.intervention_intervention_id})\n",
    "  ON CREATE SET\n",
    "    intervention.type               = row.intervention_type,\n",
    "    intervention.startDate          = date(row.intervention_start_date),\n",
    "    intervention.durationDays       = toInteger(row.intervention_duration_days),\n",
    "    intervention.effectivenessScore = toFloat(row.intervention_effectiveness_score),\n",
    "    intervention.cost               = toInteger(row.intervention_cost),\n",
    "    intervention.populationAffected = toInteger(row.intervention_population_affected),\n",
    "    intervention.complianceRate     = toFloat(row.intervention_compliance_rate)\n",
    "\n",
    "// 5. MERGE Time‑Tree\n",
    "MERGE (year:Year      {year: row.timestamp.year})\n",
    "MERGE (month:Month    {month: row.timestamp.month})\n",
    "MERGE (day:Day        {day: row.timestamp.day})\n",
    "MERGE (weekday:DayOfWeek {name: row.day_of_week})\n",
    "MERGE (hour:Hour      {hour: row.hour})\n",
    "\n",
    "// 6. CREATE the Case node\n",
    "CREATE (case:Case {\n",
    "  caseId                 : row.case_id,\n",
    "  timestamp              : datetime(row.timestamp),\n",
    "  location               : point({latitude: toFloat(row.latitude), longitude: toFloat(row.longitude)}),\n",
    "  isOutbreakRelated      : toBoolean(row.is_outbreak_related),\n",
    "  contactTracingNeeded   : toBoolean(row.contact_tracing_needed),\n",
    "  hospitalizationRequired: toBoolean(row.hospitalization_required)\n",
    "})\n",
    "\n",
    "// 7. Core relationships\n",
    "MERGE (patient)-[:REPORTED]->(case)\n",
    "MERGE (case)-[:DIAGNOSED_WITH]->(disease)\n",
    "MERGE (case)-[:HAS_SEVERITY]->(severity)\n",
    "MERGE (case)-[:OCCURRED_IN]->(case_region)\n",
    "MERGE (case)-[:AFFECTED_BY]->(intervention)\n",
    "\n",
    "// 8. Demographics on the case\n",
    "MERGE (patient)-[:BELONGS_TO_AGE_GROUP]->(ageGroupNode)\n",
    "MERGE (patient)-[:HAS_GENDER]->(genderNode)\n",
    "\n",
    "// 9. Time relationships\n",
    "MERGE (case)-[:OCCURRED_ON]->(day)\n",
    "MERGE (day)-[:OF_MONTH]->(month)\n",
    "MERGE (month)-[:OF_YEAR]->(year)\n",
    "MERGE (day)-[:IS_WEEKDAY]->(weekday)\n",
    "MERGE (case)-[:OCCURRED_AT_HOUR]->(hour)\n",
    "MERGE (case)-[:REPORTED_IN_YEAR]->(year)\n",
    "\n",
    "// 10. Symptoms (assumes row.symptoms_text is a list of symptom strings)\n",
    "FOREACH (symptom_name IN row.symptoms_text |\n",
    "  MERGE (symptom:Symptom {name: symptom_name})\n",
    "  MERGE (case)-[:PRESENTED_SYMPTOM]->(symptom)\n",
    "  MERGE (symptom)-[:COMMON_MANIFESTATION_OF]->(disease)\n",
    ")\n",
    "\n",
    "// 11. Intervention relationships\n",
    "MERGE (intervention)-[:TARGETS_DISEASE]->(target_disease)\n",
    "MERGE (intervention)-[:APPLIED_IN]->(intervention_region)\n",
    "\n",
    "// 12. Inferred & conceptual links\n",
    "MERGE (disease)-[:IS_A_TYPE_OF]->(category)\n",
    "MERGE (patient)-[:LIVES_IN]->(case_region)\n",
    "MERGE (patient)-[:HAS_HISTORY_OF]->(disease)\n",
    "MERGE (disease)-[:PREVALENT_IN]->(case_region)\n",
    "\n",
    "// 13. Outbreak linkage (only if flag = true)\n",
    "FOREACH (_ IN CASE WHEN toBoolean(row.is_outbreak_related) THEN [1] ELSE [] END |\n",
    "  MERGE (outbreak:Outbreak {\n",
    "    disease: row.actual_disease,\n",
    "    region : row.region\n",
    "  })\n",
    "    ON CREATE SET\n",
    "      outbreak.startDate = date(row.timestamp)\n",
    "  MERGE (case)-[:PART_OF_OUTBREAK]->(outbreak)\n",
    ")\n",
    "\n",
    "// 14. Conditional contact tracing\n",
    "FOREACH (_ IN CASE WHEN toBoolean(row.contact_tracing_needed) THEN [1] ELSE [] END |\n",
    "  MERGE (ctService:ContactTracingService {name: \"ContactTracing\"})\n",
    "  MERGE (case)-[:REQUIRES_CONTACT_TRACING]->(ctService)\n",
    ")\n",
    "\n",
    "// 15. Conditional hospitalization\n",
    "FOREACH (_ IN CASE WHEN toBoolean(row.hospitalization_required) THEN [1] ELSE [] END |\n",
    "  MERGE (hospService:HospitalizationService {name: \"Hospitalization\"})\n",
    "  MERGE (case)-[:REQUIRES_HOSPITALIZATION]->(hospService)\n",
    ")\n",
    "\"\"\""
   ]
  },
  {
   "cell_type": "code",
   "execution_count": 71,
   "id": "777c2989",
   "metadata": {},
   "outputs": [],
   "source": [
    "def ingest_data_in_batches(driver, query, data, batch_size=500):\n",
    "    total = len(data)\n",
    "    print(f\"Starting ingestion of {total} records with the hyper-robust schema...\")\n",
    "    with driver.session(database=\"neo4j\") as session:\n",
    "        for i in range(0, total, batch_size):\n",
    "            batch = data[i:min(i + batch_size, total)]\n",
    "            session.run(query, records=batch)\n",
    "            print(f\"Processed {len(batch)} records. ({i + len(batch)}/{total})\")"
   ]
  },
  {
   "cell_type": "code",
   "execution_count": 72,
   "id": "0457c004",
   "metadata": {},
   "outputs": [
    {
     "name": "stdout",
     "output_type": "stream",
     "text": [
      "Starting ingestion of 10000 records with the hyper-robust schema...\n",
      "Processed 500 records. (500/10000)\n",
      "Processed 500 records. (1000/10000)\n",
      "Processed 500 records. (1500/10000)\n",
      "Processed 500 records. (2000/10000)\n",
      "Processed 500 records. (2500/10000)\n",
      "Processed 500 records. (3000/10000)\n",
      "Processed 500 records. (3500/10000)\n",
      "Processed 500 records. (4000/10000)\n",
      "Processed 500 records. (4500/10000)\n",
      "Processed 500 records. (5000/10000)\n",
      "Processed 500 records. (5500/10000)\n",
      "Processed 500 records. (6000/10000)\n",
      "Processed 500 records. (6500/10000)\n",
      "Processed 500 records. (7000/10000)\n",
      "Processed 500 records. (7500/10000)\n",
      "Processed 500 records. (8000/10000)\n",
      "Processed 500 records. (8500/10000)\n",
      "Processed 500 records. (9000/10000)\n",
      "Processed 500 records. (9500/10000)\n",
      "Processed 500 records. (10000/10000)\n",
      "\n",
      "Ingestion complete. Your graph is now ready for advanced querying.\n"
     ]
    }
   ],
   "source": [
    "ingest_data_in_batches(driver, ingestion_query, records, batch_size=500)\n",
    "print(\"\\nIngestion complete. Your graph is now ready for advanced querying.\")\n",
    "driver.close()"
   ]
  },
  {
   "cell_type": "markdown",
   "id": "9e9872fd",
   "metadata": {},
   "source": [
    "# Cypher Query Chain prompting"
   ]
  },
  {
   "cell_type": "code",
   "execution_count": 73,
   "id": "85bd6f1c",
   "metadata": {},
   "outputs": [
    {
     "name": "stderr",
     "output_type": "stream",
     "text": [
      "c:\\Users\\ahaqu\\OneDrive\\Desktop\\kermit_tech\\kermitenv\\lib\\site-packages\\tqdm\\auto.py:21: TqdmWarning: IProgress not found. Please update jupyter and ipywidgets. See https://ipywidgets.readthedocs.io/en/stable/user_install.html\n",
      "  from .autonotebook import tqdm as notebook_tqdm\n"
     ]
    }
   ],
   "source": [
    "import os\n",
    "from langchain_google_genai import ChatGoogleGenerativeAI\n",
    "from langchain.chains import GraphCypherQAChain\n",
    "from langchain_community.graphs import Neo4jGraph\n",
    "from langchain_groq import ChatGroq\n",
    "from langchain.prompts import PromptTemplate"
   ]
  },
  {
   "cell_type": "code",
   "execution_count": 74,
   "id": "a0c70bcb",
   "metadata": {},
   "outputs": [],
   "source": [
    "os.environ[\"GOOGLE_API_KEY\"] = os.getenv(\"GOOGLE_API_KEY\")\n",
    "os.environ[\"GROQ_API_KEY\"] = os.getenv(\"GROQ_API_KEY\")"
   ]
  },
  {
   "cell_type": "code",
   "execution_count": 75,
   "id": "4ad20824",
   "metadata": {},
   "outputs": [
    {
     "name": "stderr",
     "output_type": "stream",
     "text": [
      "C:\\Users\\ahaqu\\AppData\\Local\\Temp\\ipykernel_8640\\1891428019.py:1: LangChainDeprecationWarning: The class `Neo4jGraph` was deprecated in LangChain 0.3.8 and will be removed in 1.0. An updated version of the class exists in the :class:`~langchain-neo4j package and should be used instead. To use it run `pip install -U :class:`~langchain-neo4j` and import as `from :class:`~langchain_neo4j import Neo4jGraph``.\n",
      "  graph = Neo4jGraph(\n"
     ]
    }
   ],
   "source": [
    "graph = Neo4jGraph(\n",
    "    url=os.getenv(\"NEO4J_URI\"), \n",
    "    username=\"neo4j\", \n",
    "    password=os.getenv(\"NEO4J_PASSWORD\")\n",
    ")"
   ]
  },
  {
   "cell_type": "code",
   "execution_count": 76,
   "id": "b24f12ed",
   "metadata": {},
   "outputs": [
    {
     "name": "stdout",
     "output_type": "stream",
     "text": [
      "Node properties:\n",
      "Disease {name: STRING}\n",
      "Region {name: STRING}\n",
      "Intervention {id: STRING, type: STRING, cost: INTEGER, startDate: DATE, durationDays: INTEGER, effectivenessScore: FLOAT, populationAffected: INTEGER, complianceRate: FLOAT}\n",
      "Symptom {name: STRING}\n",
      "Year {year: INTEGER}\n",
      "Month {month: INTEGER}\n",
      "Day {day: INTEGER}\n",
      "DayOfWeek {name: STRING}\n",
      "Hour {hour: INTEGER}\n",
      "Case {timestamp: DATE_TIME, caseId: STRING, contactTracingNeeded: BOOLEAN, location: POINT, isOutbreakRelated: BOOLEAN, hospitalizationRequired: BOOLEAN}\n",
      "Patient {gender: STRING, age: INTEGER, patientId: STRING, ageGroup: STRING}\n",
      "SeverityLevel {level: STRING}\n",
      "DiseaseCategory {name: STRING}\n",
      "AgeGroup {name: STRING}\n",
      "Gender {value: STRING}\n",
      "Outbreak {startDate: DATE, disease: STRING, region: STRING}\n",
      "HospitalizationService {name: STRING}\n",
      "ContactTracingService {name: STRING}\n",
      "Relationship properties:\n",
      "\n",
      "The relationships:\n",
      "(:Disease)-[:IS_A_TYPE_OF]->(:DiseaseCategory)\n",
      "(:Disease)-[:PREVALENT_IN]->(:Region)\n",
      "(:Intervention)-[:APPLIED_IN]->(:Region)\n",
      "(:Intervention)-[:TARGETS_DISEASE]->(:Disease)\n",
      "(:Symptom)-[:COMMON_MANIFESTATION_OF]->(:Disease)\n",
      "(:Month)-[:OF_YEAR]->(:Year)\n",
      "(:Day)-[:OF_MONTH]->(:Month)\n",
      "(:Day)-[:IS_WEEKDAY]->(:DayOfWeek)\n",
      "(:Case)-[:OCCURRED_IN]->(:Region)\n",
      "(:Case)-[:AFFECTED_BY]->(:Intervention)\n",
      "(:Case)-[:DIAGNOSED_WITH]->(:Disease)\n",
      "(:Case)-[:HAS_SEVERITY]->(:SeverityLevel)\n",
      "(:Case)-[:OCCURRED_ON]->(:Day)\n",
      "(:Case)-[:OCCURRED_AT_HOUR]->(:Hour)\n",
      "(:Case)-[:REPORTED_IN_YEAR]->(:Year)\n",
      "(:Case)-[:PRESENTED_SYMPTOM]->(:Symptom)\n",
      "(:Case)-[:REQUIRES_CONTACT_TRACING]->(:ContactTracingService)\n",
      "(:Case)-[:REQUIRES_HOSPITALIZATION]->(:HospitalizationService)\n",
      "(:Case)-[:PART_OF_OUTBREAK]->(:Outbreak)\n",
      "(:Patient)-[:REPORTED]->(:Case)\n",
      "(:Patient)-[:BELONGS_TO_AGE_GROUP]->(:AgeGroup)\n",
      "(:Patient)-[:HAS_GENDER]->(:Gender)\n",
      "(:Patient)-[:LIVES_IN]->(:Region)\n",
      "(:Patient)-[:HAS_HISTORY_OF]->(:Disease)\n"
     ]
    }
   ],
   "source": [
    "graph.refresh_schema()\n",
    "print(graph.schema)"
   ]
  },
  {
   "cell_type": "code",
   "execution_count": 170,
   "id": "d46addf7",
   "metadata": {},
   "outputs": [],
   "source": [
    "llm = ChatGroq(\n",
    "    groq_api_key=os.environ.get('GROQ_API'),\n",
    "    model_name='llama-3.3-70b-versatile',\n",
    "    max_tokens=2048,\n",
    ")"
   ]
  },
  {
   "cell_type": "code",
   "execution_count": 101,
   "id": "cc1bda13",
   "metadata": {},
   "outputs": [],
   "source": [
    "from langchain_nvidia_ai_endpoints import ChatNVIDIA\n",
    "\n",
    "llm = ChatNVIDIA(\n",
    "    model_name=\"nvidia/llama-3.1-405b-instruct\",\n",
    "    api_key=os.getenv(\"NVIDIA_API_KEY\"),\n",
    ")"
   ]
  },
  {
   "cell_type": "code",
   "execution_count": 171,
   "id": "000398e5",
   "metadata": {},
   "outputs": [],
   "source": [
    "CYPHER_GENERATION_TEMPLATE_XML = \"\"\"<cypher_generation_prompt>\n",
    "    <instructions>\n",
    "        <title>Instructions for Neo4j Cypher Query Generation</title>\n",
    "        <rule>You are a world-class Neo4j Cypher query translator. Your sole purpose is to convert a user's question into a valid and efficient Cypher query based on the provided graph schema.</rule>\n",
    "        <rule>Strictly adhere to the schema. Never use node labels, relationship types, or property names that are not explicitly defined in the `<schema>` block.</rule>\n",
    "        <rule>Use underscores in multi-word names like 'coastal_region'.</rule>\n",
    "        <rule>Your output MUST be a single, valid Cypher query and nothing else. No explanations, no markdown, no assumptions.</rule>\n",
    "        <rule>Do not guess. If the query cannot be generated without assuming missing information, return an empty query.</rule>\n",
    "        <rule>You are allowed to match symptoms to cases and infer probable diseases based on frequency counts of co-occurrence.</rule>\n",
    "        <rule>Use aggregation such as count(*) and ORDER BY when needed to find most common patterns.</rule>\n",
    "        <rule>Whenever asked for age average you need to return an integer.</rule>\n",
    "        <rule>Avoid nested aggregates (e.g. `avg(avg(...))`).</rule>\n",
    "        <rule>Do NOT use `collect(...)` followed by `avg(...)` on the collected list—you must aggregate directly on the numeric property in a single pass.</rule>\n",
    "        <rule>If the question asks for 'most effective', include avg(i.effectivenessScore) and sort by it descending.</rule>\n",
    "        <rule>Pay careful attention to relationship directions in the schema.</rule>\n",
    "        <rule>Whenever asked for symptoms, you should only return the symptom names, not the full text descriptions and give common symptoms everytime, do not give all symptoms of every disease as it would be very long for context.</rule>\n",
    "        <rule>Fix the token limit to be inbetween 5000 and 9000 tokens, so that the model can handle complex queries without truncation.</rule>\n",
    "        <rule>When asked for symptoms, only make query for most common symptoms, not all symptoms.</rule>\n",
    "        <rule>When asked for intervention name you should return the intervention type, not the intervention id.</rule>\n",
    "        <rule>When using ORDER BY on an aggregate like count(), avg(), etc., ensure the aggregate is aliased in the RETURN or WITH clause before ordering—e.g., `RETURN x AS y, count(c) AS frequency ORDER BY frequency DESC`.</rule>\n",
    "    </instructions>\n",
    "\n",
    "    <schema>\n",
    "        {schema}\n",
    "    </schema>\n",
    "    \n",
    "    <few_shot_examples>\n",
    "        <example>\n",
    "            <question>Which intervention type was most effective for reducing severe malaria cases in the coastal region during the last two years, and what was the average age of patients who benefited from these interventions?</question>\n",
    "            <cypher>\n",
    "MATCH (c:Case)-[:DIAGNOSED_WITH]->(d:Disease {{name: 'malaria'}}),\n",
    "      (c)-[:OCCURRED_IN]->(r:Region {{name: 'coastal_region'}}),\n",
    "      (c)-[:AFFECTED_BY]->(i:Intervention),\n",
    "      (p:Patient)-[:REPORTED]->(c),\n",
    "      (c)-[:HAS_SEVERITY]->(s:SeverityLevel {{level: 'severe'}}),\n",
    "      (c)-[:REPORTED_IN_YEAR]->(y:Year)\n",
    "WHERE y.year >= date().year - 2\n",
    "RETURN i.type AS intervention_type, \n",
    "       toInteger(avg(p.age)) AS average_patient_age,\n",
    "       avg(i.effectivenessScore) AS avg_effectiveness\n",
    "ORDER BY avg_effectiveness DESC\n",
    "LIMIT 1\n",
    "            </cypher>\n",
    "        </example>\n",
    "\n",
    "        <example>\n",
    "            <question>What is the total number of malaria cases reported in the coastal region last year?</question>\n",
    "            <cypher>\n",
    "MATCH (c:Case)-[:DIAGNOSED_WITH]->(d:Disease {{name: 'malaria'}}),\n",
    "      (c)-[:OCCURRED_IN]->(r:Region {{name: 'coastal_region'}}),\n",
    "      (c)-[:REPORTED_IN_YEAR]->(y:Year)\n",
    "WHERE y.year = date().year - 1\n",
    "RETURN count(c) AS total_cases\n",
    "            </cypher>\n",
    "        </example>\n",
    "\n",
    "        <example>\n",
    "            <question>Which disease has the highest average age of patients in urban areas?</question>\n",
    "            <cypher>\n",
    "MATCH (p:Patient)-[:REPORTED]->(c:Case)-[:DIAGNOSED_WITH]->(d:Disease),\n",
    "      (c)-[:OCCURRED_IN]->(r:Region {{name: 'urban_area'}})\n",
    "RETURN d.name AS disease_name, \n",
    "       toInteger(avg(p.age)) AS average_age\n",
    "ORDER BY average_age DESC\n",
    "LIMIT 1\n",
    "            </cypher>\n",
    "        </example>\n",
    "\n",
    "        <example>\n",
    "            <question>What are the most common symptoms for dengue fever cases?</question>\n",
    "            <cypher>\n",
    "MATCH (c:Case)-[:DIAGNOSED_WITH]->(d:Disease {{name: 'dengue_fever'}}),\n",
    "      (c)-[:PRESENTED_SYMPTOM]->(s:Symptom)\n",
    "RETURN s.name AS symptom, count(c) AS frequency\n",
    "ORDER BY frequency DESC\n",
    "LIMIT 5\n",
    "            </cypher>\n",
    "        </example>\n",
    "\n",
    "        <example>\n",
    "        <question>Which intervention type had the highest effectiveness score in reducing severe cases across different disease categories, and what was the average patient age and most common symptoms for those cases in the last two years?</question>\n",
    "        <cypher>\n",
    "        MATCH (c:Case)-[:DIAGNOSED_WITH]->(d:Disease),\n",
    "            (c)-[:AFFECTED_BY]->(i:Intervention),\n",
    "            (p:Patient)-[:REPORTED]->(c),\n",
    "            (c)-[:PRESENTED_SYMPTOM]->(s:Symptom),\n",
    "            (c)-[:HAS_SEVERITY]->(sev:SeverityLevel {{level: 'severe'}}),\n",
    "            (d)-[:IS_A_TYPE_OF]->(dc:DiseaseCategory),\n",
    "            (c)-[:REPORTED_IN_YEAR]->(y:Year)\n",
    "        WHERE y.year >= date().year - 2\n",
    "        WITH i.type AS intervention_type, \n",
    "            avg(i.effectivenessScore) AS avg_effectiveness,\n",
    "            collect(p.age) AS patient_ages,\n",
    "            collect(s.name) AS symptoms,\n",
    "            count(c) AS case_count\n",
    "        RETURN intervention_type, \n",
    "            toInteger(avg([age IN patient_ages | age])) AS average_patient_age,\n",
    "            avg_effectiveness,\n",
    "            [symptom IN symptoms | symptom][0..3] AS common_symptoms,\n",
    "            case_count\n",
    "        ORDER BY avg_effectiveness DESC\n",
    "        LIMIT 1\n",
    "        </cypher>\n",
    "        </example>\n",
    "\n",
    "        <example>\n",
    "            <question>Which region had the most severe tuberculosis cases in the last 6 months?</question>\n",
    "            <cypher>\n",
    "MATCH (c:Case)-[:DIAGNOSED_WITH]->(d:Disease {{name: 'tuberculosis'}}),\n",
    "      (c)-[:OCCURRED_IN]->(r:Region),\n",
    "      (c)-[:HAS_SEVERITY]->(s:SeverityLevel {{level: 'severe'}})\n",
    "WHERE c.timestamp >= datetime() - duration({{months: 6}})\n",
    "RETURN r.name AS region_name, count(c) AS severe_cases\n",
    "ORDER BY severe_cases DESC\n",
    "LIMIT 1\n",
    "            </cypher>\n",
    "        </example>\n",
    "\n",
    "        <example>\n",
    "            <question>What is the average effectiveness score of interventions targeting malaria?</question>\n",
    "            <cypher>\n",
    "MATCH (i:Intervention)-[:TARGETS_DISEASE]->(d:Disease {{name: 'malaria'}})\n",
    "RETURN avg(i.effectivenessScore) AS average_effectiveness\n",
    "            </cypher>\n",
    "        </example>\n",
    "\n",
    "        <example>\n",
    "            <question>Which gender has more cases of severe diseases in the mountain region?</question>\n",
    "            <cypher>\n",
    "MATCH (p:Patient)-[:REPORTED]->(c:Case),\n",
    "      (p)-[:HAS_GENDER]->(g:Gender),\n",
    "      (c)-[:OCCURRED_IN]->(r:Region {{name: 'mountain_region'}}),\n",
    "      (c)-[:HAS_SEVERITY]->(s:SeverityLevel {{level: 'severe'}})\n",
    "RETURN g.value AS gender, count(c) AS case_count\n",
    "ORDER BY case_count DESC\n",
    "LIMIT 1\n",
    "            </cypher>\n",
    "        </example>\n",
    "\n",
    "        <example>\n",
    "            <question>Find patients who have a history of malaria and currently live in the coastal region</question>\n",
    "            <cypher>\n",
    "MATCH (p:Patient)-[:HAS_HISTORY_OF]->(d:Disease {{name: 'malaria'}}),\n",
    "      (p)-[:LIVES_IN]->(r:Region {{name: 'coastal_region'}})\n",
    "RETURN p.patientId, p.age, p.gender\n",
    "            </cypher>\n",
    "        </example>\n",
    "    </few_shot_examples>\n",
    "    \n",
    "    <important_notes>\n",
    "        <note>Symptom names in the database are long text strings like \"Symptoms include fever, cough and chills\".</note>\n",
    "        <note>To match individual symptoms, use `CONTAINS` or `=~` instead of `s.name IN [...]`.</note>\n",
    "        <note>Remember relationship directions: Patient-[:REPORTED]->Case, Case-[:DIAGNOSED_WITH]->Disease</note>\n",
    "        <note>Use date() functions for current date comparisons</note>\n",
    "        <note>Use datetime() for timestamp comparisons with duration</note>\n",
    "        <note>Always use toInteger() when returning average ages</note>\n",
    "    </important_notes>\n",
    "\n",
    "    <common_patterns>\n",
    "        <pattern name=\"Most Effective Intervention\">\n",
    "            <description>When asking for most effective intervention, always include effectiveness score in ordering</description>\n",
    "            <template>\n",
    "MATCH (relevant patterns)\n",
    "RETURN intervention_details, avg(i.effectivenessScore) AS effectiveness\n",
    "ORDER BY effectiveness DESC\n",
    "LIMIT 1\n",
    "            </template>\n",
    "        </pattern>\n",
    "\n",
    "        <pattern name=\"Age Aggregation\">\n",
    "            <description>Direct aggregation on patient age property</description>\n",
    "            <template>\n",
    "MATCH (p:Patient)-[:REPORTED]->(c:Case)\n",
    "WHERE (conditions)\n",
    "RETURN toInteger(avg(p.age)) AS average_age\n",
    "            </template>\n",
    "        </pattern>\n",
    "\n",
    "        <pattern name=\"Time-based Filtering\">\n",
    "            <description>Filtering by years or recent time periods</description>\n",
    "            <template>\n",
    "MATCH (c:Case)-[:REPORTED_IN_YEAR]->(y:Year)\n",
    "WHERE y.year >= date().year - 2\n",
    "            </template>\n",
    "        </pattern>\n",
    "\n",
    "        <pattern name=\"Disease-Region-Severity\">\n",
    "            <description>Common pattern for disease analysis by region and severity</description>\n",
    "            <template>\n",
    "MATCH (c:Case)-[:DIAGNOSED_WITH]->(d:Disease {{name: 'disease_name'}}),\n",
    "      (c)-[:OCCURRED_IN]->(r:Region {{name: 'region_name'}}),\n",
    "      (c)-[:HAS_SEVERITY]->(s:SeverityLevel {{level: 'severity_level'}})\n",
    "            </template>\n",
    "        </pattern>\n",
    "    </common_patterns>\n",
    "\n",
    "    <task>\n",
    "        <title>Current Task</title>\n",
    "        <question>{question}</question>\n",
    "        <cypher>\n",
    "        </cypher>\n",
    "    </task>\n",
    "</cypher_generation_prompt>\"\"\""
   ]
  },
  {
   "cell_type": "code",
   "execution_count": 172,
   "id": "0f4291b2",
   "metadata": {},
   "outputs": [],
   "source": [
    "cypher_prompt = PromptTemplate(\n",
    "    input_variables=[\"schema\", \"question\"],\n",
    "    template=CYPHER_GENERATION_TEMPLATE_XML\n",
    ")"
   ]
  },
  {
   "cell_type": "code",
   "execution_count": 173,
   "id": "7cad6774",
   "metadata": {},
   "outputs": [],
   "source": [
    "chain = GraphCypherQAChain.from_llm(\n",
    "    graph=graph,\n",
    "    llm=llm,\n",
    "    verbose=True, \n",
    "    cypher_prompt=cypher_prompt,\n",
    "    allow_dangerous_requests=True\n",
    ")"
   ]
  },
  {
   "cell_type": "code",
   "execution_count": 174,
   "id": "5145bbf9",
   "metadata": {},
   "outputs": [],
   "source": [
    "def ask_question(query: str):\n",
    "    \"\"\"\n",
    "    Invokes the QA chain and prints the result in a user-friendly format.\n",
    "    \"\"\"\n",
    "    try:\n",
    "        result = chain.invoke({\"query\": query})\n",
    "        print(f\"❓ Question: {query}\")\n",
    "        # The final answer is in the 'result' key\n",
    "        print(f\"🤖 Answer: {result['result']}\")\n",
    "    except Exception as e:\n",
    "        print(f\"An error occurred: {e}\")\n",
    "    print(\"-\" * 50)"
   ]
  },
  {
   "cell_type": "code",
   "execution_count": 159,
   "id": "48159f64",
   "metadata": {},
   "outputs": [
    {
     "name": "stdout",
     "output_type": "stream",
     "text": [
      "Running corrected queries...\n",
      "\n",
      "\n",
      "\n",
      "\u001b[1m> Entering new GraphCypherQAChain chain...\u001b[0m\n",
      "Generated Cypher:\n",
      "\u001b[32;1m\u001b[1;3mMATCH (c:Case)-[:DIAGNOSED_WITH]->(d:Disease {name: 'covid19'}),\n",
      "      (c)-[:REPORTED_IN_YEAR]->(y:Year),\n",
      "      (c)-[:OCCURRED_ON]->(day:Day)-[:OF_MONTH]->(m:Month)\n",
      "RETURN count(c) AS total_cases, \n",
      "       y.year AS year, \n",
      "       m.month AS month\u001b[0m\n",
      "Full Context:\n",
      "\u001b[32;1m\u001b[1;3m[{'total_cases': 148, 'year': 2024, 'month': 12}, {'total_cases': 160, 'year': 2022, 'month': 12}, {'total_cases': 153, 'year': 2023, 'month': 12}, {'total_cases': 63, 'year': 2025, 'month': 12}, {'total_cases': 162, 'year': 2020, 'month': 12}, {'total_cases': 885, 'year': 2021, 'month': 12}, {'total_cases': 148, 'year': 2024, 'month': 5}, {'total_cases': 160, 'year': 2022, 'month': 5}, {'total_cases': 153, 'year': 2023, 'month': 5}, {'total_cases': 63, 'year': 2025, 'month': 5}]\u001b[0m\n",
      "\n",
      "\u001b[1m> Finished chain.\u001b[0m\n",
      "❓ Question: how many cases were reported for covid19 and tell which year and month it was reported in?\n",
      "🤖 Answer: There were 148 cases reported in December 2024 and May 2024, 160 cases in December 2022 and May 2022, 153 cases in December 2023 and May 2023, 63 cases in December 2025 and May 2025, 162 cases in December 2020, and 885 cases in December 2021.\n",
      "--------------------------------------------------\n",
      "\n",
      "\n",
      "\u001b[1m> Entering new GraphCypherQAChain chain...\u001b[0m\n",
      "Generated Cypher:\n",
      "\u001b[32;1m\u001b[1;3mMATCH (i:Intervention)-[:TARGETS_DISEASE]->(d:Disease {name: 'malaria'}) RETURN avg(i.effectivenessScore) AS effectiveness_score\u001b[0m\n",
      "Full Context:\n",
      "\u001b[32;1m\u001b[1;3m[{'effectiveness_score': 0.39034478377814047}]\u001b[0m\n",
      "\n",
      "\u001b[1m> Finished chain.\u001b[0m\n",
      "❓ Question: What was the effectiveness score for interventions targeting malaria?\n",
      "🤖 Answer: The effectiveness score for interventions targeting malaria was 0.39034478377814047.\n",
      "--------------------------------------------------\n",
      "\n",
      "\n",
      "\u001b[1m> Entering new GraphCypherQAChain chain...\u001b[0m\n",
      "Generated Cypher:\n",
      "\u001b[32;1m\u001b[1;3mMATCH (c:Case)-[:DIAGNOSED_WITH]->(d:Disease), \n",
      "      (c)-[:OCCURRED_IN]->(r:Region {name: 'coastal_region'}),\n",
      "      (c)-[:OCCURRED_ON]->(day:Day),\n",
      "      (day)-[:OF_MONTH]->(m:Month {month: 5})\n",
      "RETURN d.name AS disease_name, count(c) AS case_count\n",
      "ORDER BY case_count DESC\n",
      "LIMIT 1\u001b[0m\n",
      "Full Context:\n",
      "\u001b[32;1m\u001b[1;3m[{'disease_name': 'malaria', 'case_count': 428}]\u001b[0m\n",
      "\n",
      "\u001b[1m> Finished chain.\u001b[0m\n",
      "❓ Question: Which disease was most common in the coastal region in May?\n",
      "🤖 Answer: Malaria was the most common disease in the coastal region in May, with 428 reported cases.\n",
      "--------------------------------------------------\n",
      "\n",
      "\n",
      "\u001b[1m> Entering new GraphCypherQAChain chain...\u001b[0m\n",
      "Generated Cypher:\n",
      "\u001b[32;1m\u001b[1;3mMATCH (p:Patient)-[:REPORTED]->(c:Case)-[:DIAGNOSED_WITH]->(d:Disease {name: 'malaria'}), \n",
      "      (p)-[:HAS_GENDER]->(g:Gender {value: 'male'})\n",
      "RETURN toInteger(avg(p.age)) AS average_age\u001b[0m\n",
      "Full Context:\n",
      "\u001b[32;1m\u001b[1;3m[{'average_age': 39}]\u001b[0m\n",
      "\n",
      "\u001b[1m> Finished chain.\u001b[0m\n",
      "❓ Question: What is the average age of male patients diagnosed with malaria?\n",
      "🤖 Answer: The average age is 39.\n",
      "--------------------------------------------------\n"
     ]
    }
   ],
   "source": [
    "print(\"Running corrected queries...\\n\")\n",
    "\n",
    "# Test 1: The COVID-19 query \n",
    "ask_question(\"how many cases were reported for covid19 and tell which year and month it was reported in?\")\n",
    "\n",
    "# Test 2: The Intervention query \n",
    "ask_question(\"What was the effectiveness score for interventions targeting malaria?\")\n",
    "\n",
    "# Test 3: Other queries\n",
    "ask_question(\"Which disease was most common in the coastal region in May?\")\n",
    "ask_question(\"What is the average age of male patients diagnosed with malaria?\")"
   ]
  },
  {
   "cell_type": "code",
   "execution_count": 160,
   "id": "7f22ead0",
   "metadata": {},
   "outputs": [
    {
     "name": "stdout",
     "output_type": "stream",
     "text": [
      "\n",
      "\n",
      "\u001b[1m> Entering new GraphCypherQAChain chain...\u001b[0m\n",
      "Generated Cypher:\n",
      "\u001b[32;1m\u001b[1;3mMATCH (c:Case)-[:DIAGNOSED_WITH]->(d:Disease {name: 'pneumonia'}), \n",
      "      (c)-[:PRESENTED_SYMPTOM]->(s:Symptom)\n",
      "RETURN s.name AS symptom, count(c) AS frequency\n",
      "ORDER BY frequency DESC\n",
      "LIMIT 1\u001b[0m\n",
      "Full Context:\n",
      "\u001b[32;1m\u001b[1;3m[{'symptom': 'Clinical presentation: shivering, shortness of breath and cough with phlegm', 'frequency': 2}]\u001b[0m\n",
      "\n",
      "\u001b[1m> Finished chain.\u001b[0m\n",
      "❓ Question: What is the most common symptom for patients diagnosed with pneumonia?\n",
      "🤖 Answer: The most common symptoms for patients diagnosed with pneumonia include shivering, shortness of breath, and cough with phlegm.\n",
      "--------------------------------------------------\n"
     ]
    }
   ],
   "source": [
    "ask_question(\"What is the most common symptom for patients diagnosed with pneumonia?\")"
   ]
  },
  {
   "cell_type": "code",
   "execution_count": 162,
   "id": "58c41ec4",
   "metadata": {},
   "outputs": [
    {
     "name": "stdout",
     "output_type": "stream",
     "text": [
      "\n",
      "\n",
      "\u001b[1m> Entering new GraphCypherQAChain chain...\u001b[0m\n",
      "Generated Cypher:\n",
      "\u001b[32;1m\u001b[1;3mMATCH (c:Case)-[:DIAGNOSED_WITH]->(d:Disease), \n",
      "      (c)-[:REPORTED_IN_YEAR]->(y:Year)\n",
      "WHERE y.year = 2023\n",
      "RETURN d.name AS disease_name, count(c) AS case_count\n",
      "ORDER BY case_count DESC\n",
      "LIMIT 1\u001b[0m\n",
      "Full Context:\n",
      "\u001b[32;1m\u001b[1;3m[{'disease_name': 'gastroenteritis', 'case_count': 1144}]\u001b[0m\n",
      "\n",
      "\u001b[1m> Finished chain.\u001b[0m\n",
      "❓ Question: What was the most common disease reported in the year 2023?\n",
      "🤖 Answer: The most common disease reported was gastroenteritis, with 1144 cases.\n",
      "--------------------------------------------------\n"
     ]
    }
   ],
   "source": [
    "ask_question(\"What was the most common disease reported in the year 2023?\")"
   ]
  },
  {
   "cell_type": "code",
   "execution_count": 163,
   "id": "537116dd",
   "metadata": {},
   "outputs": [
    {
     "name": "stdout",
     "output_type": "stream",
     "text": [
      "\n",
      "\n",
      "\u001b[1m> Entering new GraphCypherQAChain chain...\u001b[0m\n",
      "Generated Cypher:\n",
      "\u001b[32;1m\u001b[1;3mMATCH (c:Case)-[:DIAGNOSED_WITH]->(d:Disease {name: 'pneumonia'}),\n",
      "      (c)-[:PRESENTED_SYMPTOM]->(s:Symptom),\n",
      "      (c)-[:REPORTED_IN_YEAR]->(y:Year)\n",
      "WHERE y.year >= date().year - 1\n",
      "RETURN s.name AS symptom, count(c) AS frequency\n",
      "ORDER BY frequency DESC\n",
      "LIMIT 1\u001b[0m\n",
      "Full Context:\n",
      "\u001b[32;1m\u001b[1;3m[{'symptom': 'Symptoms include feeling hot, productive cough, chills and breathlessness', 'frequency': 1}]\u001b[0m\n",
      "\n",
      "\u001b[1m> Finished chain.\u001b[0m\n",
      "❓ Question: What is the most common symptom for patients diagnosed with pneumonia in the last year?\n",
      "🤖 Answer: The most common symptoms include feeling hot, productive cough, chills, and breathlessness.\n",
      "--------------------------------------------------\n"
     ]
    }
   ],
   "source": [
    "ask_question(\"What is the most common symptom for patients diagnosed with pneumonia in the last year?\")"
   ]
  },
  {
   "cell_type": "code",
   "execution_count": 164,
   "id": "1a8b8d77",
   "metadata": {},
   "outputs": [
    {
     "name": "stdout",
     "output_type": "stream",
     "text": [
      "\n",
      "\n",
      "\u001b[1m> Entering new GraphCypherQAChain chain...\u001b[0m\n",
      "Generated Cypher:\n",
      "\u001b[32;1m\u001b[1;3mMATCH (c:Case)-[:DIAGNOSED_WITH]->(d:Disease), \n",
      "      (c)-[:OCCURRED_IN]->(r:Region {name: 'coastal_region'}),\n",
      "      (c)-[:REPORTED_IN_YEAR]->(y:Year)\n",
      "WHERE y.year = date().year - 1\n",
      "RETURN d.name AS disease_name, count(c) AS case_count\n",
      "ORDER BY case_count DESC\n",
      "LIMIT 1\u001b[0m\n",
      "Full Context:\n",
      "\u001b[32;1m\u001b[1;3m[{'disease_name': 'malaria', 'case_count': 292}]\u001b[0m\n",
      "\n",
      "\u001b[1m> Finished chain.\u001b[0m\n",
      "❓ Question: What is the most common disease reported in the coastal region in the last year?\n",
      "🤖 Answer: The most common disease reported in the coastal region in the last year is malaria, with 292 reported cases.\n",
      "--------------------------------------------------\n"
     ]
    }
   ],
   "source": [
    "ask_question(\"What is the most common disease reported in the coastal region in the last year?\")"
   ]
  },
  {
   "cell_type": "code",
   "execution_count": 27,
   "id": "7847e71a",
   "metadata": {},
   "outputs": [
    {
     "name": "stdout",
     "output_type": "stream",
     "text": [
      "\n",
      "\n",
      "\u001b[1m> Entering new GraphCypherQAChain chain...\u001b[0m\n",
      "Generated Cypher:\n",
      "\u001b[32;1m\u001b[1;3mMATCH (i:Intervention)-[:TARGETS_DISEASE]->(d:Disease {name: 'malaria'}),\n",
      "      (i)-[:APPLIED_IN]->(r:Region {name: 'coastal_region'})\n",
      "RETURN avg(i.effectivenessScore) AS average_effectiveness\u001b[0m\n",
      "Full Context:\n",
      "\u001b[32;1m\u001b[1;3m[{'average_effectiveness': 0.5778607618678456}]\u001b[0m\n",
      "\n",
      "\u001b[1m> Finished chain.\u001b[0m\n",
      "❓ Question: How effective are the interventions targeting malaria in the coastal region?\n",
      "🤖 Answer: The average effectiveness of the interventions targeting malaria in the coastal region is 0.5778607618678456.\n",
      "--------------------------------------------------\n"
     ]
    }
   ],
   "source": [
    "ask_question(\"How effective are the interventions targeting malaria in the coastal region?\")"
   ]
  },
  {
   "cell_type": "code",
   "execution_count": 28,
   "id": "d69ba2ef",
   "metadata": {},
   "outputs": [
    {
     "name": "stdout",
     "output_type": "stream",
     "text": [
      "\n",
      "\n",
      "\u001b[1m> Entering new GraphCypherQAChain chain...\u001b[0m\n",
      "Generated Cypher:\n",
      "\u001b[32;1m\u001b[1;3mMATCH (c:Case)-[:AFFECTED_BY]->(i:Intervention),\n",
      "      (c)-[:REPORTED_IN_YEAR]->(y:Year {year: 2023})\n",
      "RETURN i.type AS intervention_type, avg(i.effectivenessScore) AS avg_effectiveness\n",
      "ORDER BY avg_effectiveness DESC\n",
      "LIMIT 1\u001b[0m\n",
      "Full Context:\n",
      "\u001b[32;1m\u001b[1;3m[{'intervention_type': 'school_closure', 'avg_effectiveness': 0.5954077505758271}]\u001b[0m\n",
      "\n",
      "\u001b[1m> Finished chain.\u001b[0m\n",
      "❓ Question: What interventions are most effective in year 2023?\n",
      "🤖 Answer: School closure has an average effectiveness of 0.5954077505758271.\n",
      "--------------------------------------------------\n"
     ]
    }
   ],
   "source": [
    "ask_question(\"What interventions are most effective in year 2023?\")"
   ]
  },
  {
   "cell_type": "code",
   "execution_count": 110,
   "id": "3b13d863",
   "metadata": {},
   "outputs": [
    {
     "name": "stdout",
     "output_type": "stream",
     "text": [
      "\n",
      "\n",
      "\u001b[1m> Entering new GraphCypherQAChain chain...\u001b[0m\n",
      "Generated Cypher:\n",
      "\u001b[32;1m\u001b[1;3mcypher\n",
      "MATCH (d:Disease {name: 'covid19'})<-[:TARGETS_DISEASE]-(i:Intervention)\n",
      "RETURN i.type, avg(i.effectivenessScore) AS avgEffectiveness\n",
      "ORDER BY avgEffectiveness DESC\n",
      "LIMIT 1\n",
      "\u001b[0m\n",
      "Full Context:\n",
      "\u001b[32;1m\u001b[1;3m[{'i.type': 'school_closure', 'avgEffectiveness': 0.7275812461491508}]\u001b[0m\n",
      "\n",
      "\u001b[1m> Finished chain.\u001b[0m\n",
      "❓ Question: What is the overall best intervention type for covid19 till now?\n",
      "🤖 Answer: The overall best intervention type for COVID-19 is school closure, with an average effectiveness of 0.7275812461491508.\n",
      "--------------------------------------------------\n"
     ]
    }
   ],
   "source": [
    "ask_question(\"What is the overall best intervention type for covid19 till now?\")"
   ]
  },
  {
   "cell_type": "code",
   "execution_count": 30,
   "id": "fe9fe66b",
   "metadata": {},
   "outputs": [
    {
     "name": "stdout",
     "output_type": "stream",
     "text": [
      "\n",
      "\n",
      "\u001b[1m> Entering new GraphCypherQAChain chain...\u001b[0m\n",
      "Generated Cypher:\n",
      "\u001b[32;1m\u001b[1;3mMATCH (i:Intervention)-[:TARGETS_DISEASE]->(d:Disease),\n",
      "      (c:Case)-[:AFFECTED_BY]->(i),\n",
      "      (c)-[:REPORTED_IN_YEAR]->(y:Year)\n",
      "WHERE y.year = 2025\n",
      "RETURN i.type AS intervention_type, avg(i.effectivenessScore) AS avg_effectiveness\n",
      "ORDER BY avg_effectiveness DESC\n",
      "LIMIT 1\u001b[0m\n",
      "Full Context:\n",
      "\u001b[32;1m\u001b[1;3m[{'intervention_type': 'school_closure', 'avg_effectiveness': 0.6592401521834965}]\u001b[0m\n",
      "\n",
      "\u001b[1m> Finished chain.\u001b[0m\n",
      "❓ Question: which intervention type was most effective in 2025?\n",
      "🤖 Answer: I'm not aware of the data from 2025, but according to the available information, the most effective intervention type had an average effectiveness of 0.6592401521834965, which was achieved by school closure.\n",
      "--------------------------------------------------\n"
     ]
    }
   ],
   "source": [
    "ask_question(\"which intervention type was most effective in 2025?\")"
   ]
  },
  {
   "cell_type": "code",
   "execution_count": 31,
   "id": "c2a57615",
   "metadata": {},
   "outputs": [
    {
     "name": "stdout",
     "output_type": "stream",
     "text": [
      "\n",
      "\n",
      "\u001b[1m> Entering new GraphCypherQAChain chain...\u001b[0m\n",
      "Generated Cypher:\n",
      "\u001b[32;1m\u001b[1;3mMATCH (c:Case)-[:DIAGNOSED_WITH]->(d:Disease {name: 'malaria'}),\n",
      "      (c)-[:PRESENTED_SYMPTOM]->(s:Symptom)\n",
      "RETURN s.name AS symptom, count(c) AS frequency\n",
      "ORDER BY frequency DESC\n",
      "LIMIT 5\u001b[0m\n",
      "Full Context:\n",
      "\u001b[32;1m\u001b[1;3m[{'symptom': 'Clinical presentation: queasiness, migraine and sweats', 'frequency': 268}, {'symptom': 'Symptoms include feeling hot, chills and muscle pain', 'frequency': 262}, {'symptom': 'Patient presents with nausea and body aches', 'frequency': 246}, {'symptom': 'Patient presents with fever and body aches', 'frequency': 244}, {'symptom': 'Patient presents with sweats and chills', 'frequency': 7}]\u001b[0m\n",
      "\n",
      "\u001b[1m> Finished chain.\u001b[0m\n",
      "❓ Question: what is the most common symptoms for patients diagnosed with malaria?\n",
      "🤖 Answer: The most common symptoms for patients diagnosed with malaria include queasiness, migraine, and sweats, as reported by 268 patients, followed closely by feeling hot, chills, and muscle pain, reported by 262 patients.\n",
      "--------------------------------------------------\n"
     ]
    }
   ],
   "source": [
    "ask_question(\"what is the most common symptoms for patients diagnosed with malaria?\")"
   ]
  },
  {
   "cell_type": "code",
   "execution_count": 119,
   "id": "ff47d937",
   "metadata": {},
   "outputs": [
    {
     "name": "stdout",
     "output_type": "stream",
     "text": [
      "\n",
      "\n",
      "\u001b[1m> Entering new GraphCypherQAChain chain...\u001b[0m\n",
      "Generated Cypher:\n",
      "\u001b[32;1m\u001b[1;3mMATCH (c:Case)-[:DIAGNOSED_WITH]->(d:Disease {name: 'covid19'}),\n",
      "      (c)-[:AFFECTED_BY]->(i:Intervention)\n",
      "RETURN DISTINCT i.type AS intervention_type, \n",
      "       avg(i.effectivenessScore) AS avg_effectiveness\n",
      "ORDER BY avg_effectiveness DESC\u001b[0m\n",
      "Full Context:\n",
      "\u001b[32;1m\u001b[1;3m[{'intervention_type': 'quarantine', 'avg_effectiveness': 0.752942636863599}, {'intervention_type': 'school_closure', 'avg_effectiveness': 0.7275812461491508}, {'intervention_type': 'vaccination_campaign', 'avg_effectiveness': 0.5690270690642407}, {'intervention_type': 'sanitization_drive', 'avg_effectiveness': 0.4717751585662345}, {'intervention_type': 'contact_tracing', 'avg_effectiveness': 0.3656554890507603}, {'intervention_type': 'social_distancing', 'avg_effectiveness': 0.3376470890380357}, {'intervention_type': 'mask_mandate', 'avg_effectiveness': 0.2957141892664496}, {'intervention_type': 'travel_restriction', 'avg_effectiveness': 0.26855157520912626}]\u001b[0m\n",
      "\n",
      "\u001b[1m> Finished chain.\u001b[0m\n",
      "❓ Question: If I have a patient with covid19, what interventions should I consider based on past data?\n",
      "🤖 Answer: To manage a patient with COVID-19 effectively based on past data, the interventions to consider, ranked by their average effectiveness, are: quarantine, with an average effectiveness of 0.75; school closure, at 0.73; vaccination campaign, at 0.57; sanitization drive, at 0.47; contact tracing, at 0.37; social distancing, at 0.34; mask mandate, at 0.30; and travel restriction, at 0.27. Quarantine and school closure are the most effective interventions.\n",
      "--------------------------------------------------\n"
     ]
    }
   ],
   "source": [
    "ask_question(\"If I have a patient with covid19, what interventions should I consider based on past data?\")"
   ]
  },
  {
   "cell_type": "code",
   "execution_count": 165,
   "id": "c35111cd",
   "metadata": {},
   "outputs": [
    {
     "name": "stdout",
     "output_type": "stream",
     "text": [
      "\n",
      "\n",
      "\u001b[1m> Entering new GraphCypherQAChain chain...\u001b[0m\n",
      "Generated Cypher:\n",
      "\u001b[32;1m\u001b[1;3mMATCH (c:Case)-[:DIAGNOSED_WITH]->(d:Disease), \n",
      "      (c)-[:PRESENTED_SYMPTOM]->(s:Symptom)\n",
      "WHERE s.name =~ '(?i).*severe headache.*' OR s.name =~ '(?i).*sweats.*' OR s.name =~ '(?i).*body aches.*' OR s.name =~ '(?i).*chills.*'\n",
      "RETURN d.name AS disease, count(c) AS frequency\n",
      "ORDER BY frequency DESC\n",
      "LIMIT 5\u001b[0m\n",
      "Full Context:\n",
      "\u001b[32;1m\u001b[1;3m[{'disease': 'malaria', 'frequency': 1448}, {'disease': 'influenza', 'frequency': 476}, {'disease': 'meningitis', 'frequency': 385}, {'disease': 'pneumonia', 'frequency': 361}]\u001b[0m\n",
      "\n",
      "\u001b[1m> Finished chain.\u001b[0m\n",
      "❓ Question: Patient presents with severe headache, sweats, body aches and chills, what diseases should I be concerned about?\n",
      "🤖 Answer: Based on the symptoms you've described, such as severe headache, sweats, body aches, and chills, you should be concerned about influenza, meningitis, and pneumonia, as these diseases can present with similar symptoms. Malaria is also a possibility, although the symptoms may not perfectly align, it's still worth considering.\n",
      "--------------------------------------------------\n"
     ]
    }
   ],
   "source": [
    "ask_question(\"Patient presents with severe headache, sweats, body aches and chills, what diseases should I be concerned about?\")"
   ]
  },
  {
   "cell_type": "code",
   "execution_count": 166,
   "id": "b262d4f7",
   "metadata": {},
   "outputs": [
    {
     "name": "stdout",
     "output_type": "stream",
     "text": [
      "\n",
      "\n",
      "\u001b[1m> Entering new GraphCypherQAChain chain...\u001b[0m\n",
      "Generated Cypher:\n",
      "\u001b[32;1m\u001b[1;3mcypher\n",
      "MATCH (c:Case)-[:DIAGNOSED_WITH]->(d:Disease {name: 'malaria'}),\n",
      "      (c)-[:OCCURRED_IN]->(r:Region {name: 'coastal_region'}),\n",
      "      (c)-[:AFFECTED_BY]->(i:Intervention),\n",
      "      (p:Patient)-[:REPORTED]->(c),\n",
      "      (c)-[:HAS_SEVERITY]->(s:SeverityLevel {level: 'severe'}),\n",
      "      (c)-[:REPORTED_IN_YEAR]->(y:Year)\n",
      "WHERE y.year >= date().year - 2\n",
      "RETURN i.type AS intervention_type, \n",
      "       toInteger(avg(p.age)) AS average_patient_age,\n",
      "       avg(i.effectivenessScore) AS avg_effectiveness\n",
      "ORDER BY avg_effectiveness DESC\n",
      "LIMIT 1\n",
      "\u001b[0m\n",
      "Full Context:\n",
      "\u001b[32;1m\u001b[1;3m[{'intervention_type': 'public_awareness', 'average_patient_age': 16, 'avg_effectiveness': 0.3481607436976009}]\u001b[0m\n",
      "\n",
      "\u001b[1m> Finished chain.\u001b[0m\n",
      "❓ Question: Which intervention type was most effective for reducing severe malaria cases in the coastal region during the last two years, and what was the average age of patients who benefited from these interventions?\n",
      "🤖 Answer: The most effective intervention type for reducing severe malaria cases is public awareness, and the average age of patients who benefited from this intervention is 16.\n",
      "--------------------------------------------------\n"
     ]
    }
   ],
   "source": [
    "ask_question(\"Which intervention type was most effective for reducing severe malaria cases in the coastal region during the last two years, and what was the average age of patients who benefited from these interventions?\")"
   ]
  },
  {
   "cell_type": "code",
   "execution_count": 167,
   "id": "1584137e",
   "metadata": {
    "notebookRunGroups": {
     "groupValue": "1"
    }
   },
   "outputs": [
    {
     "name": "stdout",
     "output_type": "stream",
     "text": [
      "\n",
      "\n",
      "\u001b[1m> Entering new GraphCypherQAChain chain...\u001b[0m\n",
      "Generated Cypher:\n",
      "\u001b[32;1m\u001b[1;3mcypher\n",
      "MATCH (c:Case)-[:DIAGNOSED_WITH]->(d:Disease {name: 'malaria'}),\n",
      "      (c)-[:OCCURRED_IN]->(r:Region {name: 'coastal_region'}),\n",
      "      (c)-[:HAS_SEVERITY]->(s:SeverityLevel {level: 'severe'}),\n",
      "      (c)-[:REPORTED_IN_YEAR]->(y:Year),\n",
      "      (p:Patient)-[:REPORTED]->(c),\n",
      "      (p)-[:BELONGS_TO_AGE_GROUP]->(ag:AgeGroup)\n",
      "WHERE y.year >= date().year - 2\n",
      "RETURN ag.name AS age_group, count(c) AS case_count\n",
      "ORDER BY case_count DESC\n",
      "LIMIT 1\n",
      "\u001b[0m\n",
      "Full Context:\n",
      "\u001b[32;1m\u001b[1;3m[{'age_group': 'child', 'case_count': 2}]\u001b[0m\n",
      "\n",
      "\u001b[1m> Finished chain.\u001b[0m\n",
      "❓ Question: What age group has suffered the most from severe malaria cases in the coastal region in the last 2 years?\n",
      "🤖 Answer: Children have suffered the most from severe malaria cases in the given context.\n",
      "--------------------------------------------------\n"
     ]
    }
   ],
   "source": [
    "ask_question(\"What age group has suffered the most from severe malaria cases in the coastal region in the last 2 years?\")"
   ]
  },
  {
   "cell_type": "code",
   "execution_count": 168,
   "id": "7deddb82",
   "metadata": {},
   "outputs": [
    {
     "name": "stdout",
     "output_type": "stream",
     "text": [
      "\n",
      "\n",
      "\u001b[1m> Entering new GraphCypherQAChain chain...\u001b[0m\n",
      "Generated Cypher:\n",
      "\u001b[32;1m\u001b[1;3mMATCH (c:Case)-[:DIAGNOSED_WITH]->(d:Disease {name: 'covid19'}),\n",
      "      (p:Patient)-[:REPORTED]->(c),\n",
      "      (p)-[:BELONGS_TO_AGE_GROUP]->(a:AgeGroup),\n",
      "      (c)-[:REPORTED_IN_YEAR]->(y:Year)\n",
      "WHERE y.year >= date().year - 1\n",
      "RETURN a.name AS age_group, count(c) AS case_count\n",
      "ORDER BY case_count DESC\n",
      "LIMIT 1\u001b[0m\n",
      "Full Context:\n",
      "\u001b[32;1m\u001b[1;3m[{'age_group': 'young_adult', 'case_count': 35}]\u001b[0m\n",
      "\n",
      "\u001b[1m> Finished chain.\u001b[0m\n",
      "❓ Question: What age group has the highest number of cases for covid19 in the last year if present in data?\n",
      "🤖 Answer: The young_adult age group has the highest number of cases for covid19, with 35 cases.\n",
      "--------------------------------------------------\n"
     ]
    }
   ],
   "source": [
    "ask_question(\"What age group has the highest number of cases for covid19 in the last year if present in data?\")"
   ]
  },
  {
   "cell_type": "code",
   "execution_count": 187,
   "id": "3ee02b36",
   "metadata": {},
   "outputs": [
    {
     "name": "stdout",
     "output_type": "stream",
     "text": [
      "\n",
      "\n",
      "\u001b[1m> Entering new GraphCypherQAChain chain...\u001b[0m\n",
      "Generated Cypher:\n",
      "\u001b[32;1m\u001b[1;3mMATCH (p:Patient)-[:REPORTED]->(c:Case)-[:DIAGNOSED_WITH]->(d:Disease),\n",
      "      (c)-[:OCCURRED_IN]->(r:Region {name: 'coastal_region'}),\n",
      "      (c)-[:REQUIRES_HOSPITALIZATION]->(:HospitalizationService)\n",
      "RETURN d.name AS disease_name,\n",
      "       count(c) AS hospitalization_count,\n",
      "       (1.0 * count(c)) / count(distinct p) AS hospitalization_rate\n",
      "ORDER BY hospitalization_rate DESC\n",
      "LIMIT 1\u001b[0m\n",
      "Full Context:\n",
      "\u001b[32;1m\u001b[1;3m[{'disease_name': 'meningitis', 'hospitalization_count': 178, 'hospitalization_rate': 1.0}]\u001b[0m\n",
      "\n",
      "\u001b[1m> Finished chain.\u001b[0m\n",
      "❓ Question: Which disease patients in the coastal region are most likely to be hospitalized based on past data?\n",
      "🤖 Answer: Patients with meningitis are most likely to be hospitalized based on past data, with a hospitalization count of 178 and a hospitalization rate of 1.0.\n",
      "--------------------------------------------------\n"
     ]
    }
   ],
   "source": [
    "ask_question(\"Which disease patients in the coastal region are most likely to be hospitalized based on past data?\")"
   ]
  },
  {
   "cell_type": "code",
   "execution_count": 175,
   "id": "c3e4851b",
   "metadata": {},
   "outputs": [
    {
     "name": "stdout",
     "output_type": "stream",
     "text": [
      "\n",
      "\n",
      "\u001b[1m> Entering new GraphCypherQAChain chain...\u001b[0m\n",
      "Generated Cypher:\n",
      "\u001b[32;1m\u001b[1;3mcypher\n",
      "MATCH (c:Case)-[:DIAGNOSED_WITH]->(d:Disease),\n",
      "      (c)-[:PRESENTED_SYMPTOM]->(s:Symptom),\n",
      "      (c)-[:AFFECTED_BY]->(i:Intervention)\n",
      "RETURN d.name AS disease, \n",
      "       s.name AS symptom, \n",
      "       count(c) AS frequency,\n",
      "       i.type AS intervention_type,\n",
      "       avg(i.effectivenessScore) AS avg_effectiveness\n",
      "ORDER BY frequency DESC, avg_effectiveness DESC\n",
      "\u001b[0m\n",
      "Full Context:\n",
      "\u001b[32;1m\u001b[1;3m[{'disease': 'gastroenteritis', 'symptom': 'Symptoms include vomiting and abdominal pain', 'frequency': 280, 'intervention_type': 'mask_mandate', 'avg_effectiveness': 0.24869020543165593}, {'disease': 'gastroenteritis', 'symptom': 'Symptoms include diarrhea, abdominal pain and vomiting', 'frequency': 274, 'intervention_type': 'contact_tracing', 'avg_effectiveness': 0.8596030054002916}, {'disease': 'malaria', 'symptom': 'Clinical presentation: queasiness, migraine and sweats', 'frequency': 268, 'intervention_type': 'public_awareness', 'avg_effectiveness': 0.3481607436976009}, {'disease': 'malaria', 'symptom': 'Symptoms include feeling hot, shivering and muscle pain', 'frequency': 262, 'intervention_type': 'sanitization_drive', 'avg_effectiveness': 0.130540143972479}, {'disease': 'covid19', 'symptom': 'Symptoms include loss of smell, fatigue, fever, loss of taste, dry cough and breathlessness', 'frequency': 251, 'intervention_type': 'mask_mandate', 'avg_effectiveness': 0.7677237925909767}, {'disease': 'influenza', 'symptom': 'Patient presents with fatigue, head pain, muscle pain and coughing', 'frequency': 247, 'intervention_type': 'social_distancing', 'avg_effectiveness': 0.5792184369839246}, {'disease': 'food_poisoning', 'symptom': 'Clinical presentation: queasiness, abdominal cramps and being sick', 'frequency': 243, 'intervention_type': 'school_closure', 'avg_effectiveness': 0.7310724798165361}, {'disease': 'gastroenteritis', 'symptom': 'Symptoms include vomiting, high temperature, stomach pain and queasiness', 'frequency': 241, 'intervention_type': 'contact_tracing', 'avg_effectiveness': 0.8596030054002916}, {'disease': 'gastroenteritis', 'symptom': 'Patient presents with queasiness, being sick and abdominal pain', 'frequency': 241, 'intervention_type': 'contact_tracing', 'avg_effectiveness': 0.8596030054002916}, {'disease': 'gastroenteritis', 'symptom': 'Patient presents with fever and watery stools', 'frequency': 240, 'intervention_type': 'contact_tracing', 'avg_effectiveness': 0.8596030054002916}]\u001b[0m\n",
      "\n",
      "\u001b[1m> Finished chain.\u001b[0m\n",
      "❓ Question: From the data we have, can you give summary statistics on the most common diseases, their symptoms, and the effectiveness of interventions plus their respective intervention names?\n",
      "🤖 Answer: Based on the available data, the most common diseases are gastroenteritis, malaria, covid19, influenza, and food_poisoning. \n",
      "\n",
      "Gastroenteritis is the most frequent, with symptoms including vomiting and abdominal pain, diarrhea, abdominal pain and vomiting, vomiting, high temperature, stomach pain and queasiness, queasiness, being sick and abdominal pain, and fever and watery stools. The interventions for gastroenteritis include mask_mandate with an average effectiveness of 0.24869020543165593, and contact_tracing with an average effectiveness of 0.8596030054002916.\n",
      "\n",
      "Malaria has symptoms such as queasiness, migraine and sweats, and feeling hot, shivering and muscle pain. The interventions for malaria include public_awareness with an average effectiveness of 0.3481607436976009, and sanitization_drive with an average effectiveness of 0.130540143972479.\n",
      "\n",
      "Covid19 symptoms include loss of smell, fatigue, fever, loss of taste, dry cough and breathlessness, and the intervention is mask_mandate with an average effectiveness of 0.7677237925909767.\n",
      "\n",
      "Influenza symptoms include fatigue, head pain, muscle pain and coughing, with the intervention being social_distancing and an average effectiveness of 0.5792184369839246.\n",
      "\n",
      "Food_poisoning symptoms include queasiness, abdominal cramps and being sick, and the intervention is school_closure with an average effectiveness of 0.7310724798165361.\n",
      "--------------------------------------------------\n"
     ]
    }
   ],
   "source": [
    "ask_question(\"From the data we have, can you give summary statistics on the most common diseases, their symptoms, and the effectiveness of interventions plus their respective intervention names?\")"
   ]
  },
  {
   "cell_type": "code",
   "execution_count": 176,
   "id": "58f079d6",
   "metadata": {},
   "outputs": [
    {
     "name": "stdout",
     "output_type": "stream",
     "text": [
      "\n",
      "\n",
      "\u001b[1m> Entering new GraphCypherQAChain chain...\u001b[0m\n",
      "Generated Cypher:\n",
      "\u001b[32;1m\u001b[1;3mcypher\n",
      "MATCH (c:Case)-[:DIAGNOSED_WITH]->(d:Disease),\n",
      "      (c)-[:PRESENTED_SYMPTOM]->(s:Symptom),\n",
      "      (c)-[:AFFECTED_BY]->(i:Intervention)\n",
      "WHERE s.name =~ '.*fever.*' OR s.name =~ '.*fatigue.*' OR s.name =~ '.*joint pain.*'\n",
      "WITH d.name AS disease_name, i.type AS intervention_type, i.effectivenessScore AS effectiveness\n",
      "RETURN disease_name, intervention_type, avg(effectiveness) AS avg_effectiveness\n",
      "ORDER BY avg_effectiveness DESC\n",
      "LIMIT 5\n",
      "\u001b[0m\n",
      "Full Context:\n",
      "\u001b[32;1m\u001b[1;3m[{'disease_name': 'gastroenteritis', 'intervention_type': 'contact_tracing', 'avg_effectiveness': 0.8596030054002916}, {'disease_name': 'influenza', 'intervention_type': 'mask_mandate', 'avg_effectiveness': 0.6950974808743705}, {'disease_name': 'pneumonia', 'intervention_type': 'vaccination_campaign', 'avg_effectiveness': 0.692987640784457}, {'disease_name': 'covid19', 'intervention_type': 'mask_mandate', 'avg_effectiveness': 0.6768449915382124}, {'disease_name': 'meningitis', 'intervention_type': 'social_distancing', 'avg_effectiveness': 0.6224293077297558}]\u001b[0m\n",
      "\n",
      "\u001b[1m> Finished chain.\u001b[0m\n",
      "❓ Question: I have a patient with high fever, fatigue, and joint pain. What diseases should I be most concerned about based on past cases, and what are the most effective interventions for these diseases?\n",
      "🤖 Answer: Based on past cases, you should be most concerned about gastroenteritis, influenza, pneumonia, covid19, and meningitis. The most effective interventions for these diseases are contact tracing for gastroenteritis, mask mandate for influenza and covid19, vaccination campaign for pneumonia, and social distancing for meningitis, with average effectiveness of 85.96% for contact tracing, 69.51% and 67.68% for mask mandate, 69.30% for vaccination campaign, and 62.24% for social distancing.\n",
      "--------------------------------------------------\n"
     ]
    }
   ],
   "source": [
    "ask_question(\"I have a patient with high fever, fatigue, and joint pain. What diseases should I be most concerned about based on past cases, and what are the most effective interventions for these diseases?\")"
   ]
  },
  {
   "cell_type": "code",
   "execution_count": 177,
   "id": "9494f54a",
   "metadata": {},
   "outputs": [
    {
     "name": "stdout",
     "output_type": "stream",
     "text": [
      "\n",
      "\n",
      "\u001b[1m> Entering new GraphCypherQAChain chain...\u001b[0m\n",
      "Generated Cypher:\n",
      "\u001b[32;1m\u001b[1;3mcypher\n",
      "MATCH (c:Case)-[:PRESENTED_SYMPTOM]->(s:Symptom),\n",
      "      (c)-[:DIAGNOSED_WITH]->(d:Disease),\n",
      "      (c)-[:AFFECTED_BY]->(i:Intervention)\n",
      "WHERE s.name =~ '.*fever.*' OR s.name =~ '.*respiratory.*'\n",
      "      AND c.timestamp >= datetime() - duration({months: 3})\n",
      "RETURN d.name AS disease, \n",
      "       count(c) AS case_count,\n",
      "       i.type AS intervention_type,\n",
      "       avg(i.effectivenessScore) AS avg_effectiveness\n",
      "ORDER BY case_count DESC, avg_effectiveness DESC\n",
      "\u001b[0m\n",
      "Full Context:\n",
      "\u001b[32;1m\u001b[1;3m[{'disease': 'gastroenteritis', 'case_count': 512, 'intervention_type': 'contact_tracing', 'avg_effectiveness': 0.8596030054002916}, {'disease': 'covid19', 'case_count': 319, 'intervention_type': 'mask_mandate', 'avg_effectiveness': 0.72360033404336}, {'disease': 'malaria', 'case_count': 227, 'intervention_type': 'school_closure', 'avg_effectiveness': 0.5567073690816289}, {'disease': 'malaria', 'case_count': 124, 'intervention_type': 'public_awareness', 'avg_effectiveness': 0.3833775918125505}, {'disease': 'pneumonia', 'case_count': 99, 'intervention_type': 'public_awareness', 'avg_effectiveness': 0.3146162784869398}, {'disease': 'meningitis', 'case_count': 86, 'intervention_type': 'quarantine', 'avg_effectiveness': 0.34679295722525916}, {'disease': 'gastroenteritis', 'case_count': 77, 'intervention_type': 'mask_mandate', 'avg_effectiveness': 0.5691865923409392}, {'disease': 'food_poisoning', 'case_count': 60, 'intervention_type': 'vaccination_campaign', 'avg_effectiveness': 0.47287702937544274}, {'disease': 'pneumonia', 'case_count': 48, 'intervention_type': 'vaccination_campaign', 'avg_effectiveness': 0.692987640784457}, {'disease': 'food_poisoning', 'case_count': 46, 'intervention_type': 'sanitization_drive', 'avg_effectiveness': 0.3701256670260143}]\u001b[0m\n",
      "\n",
      "\u001b[1m> Finished chain.\u001b[0m\n",
      "❓ Question: Can you analyze the data for patients who presented with fever and respiratory symptoms in the last 3 months, showing which diseases were most commonly diagnosed and what interventions were most effective?\n",
      "🤖 Answer: Based on the available data, the most commonly diagnosed diseases for patients presenting with fever and respiratory symptoms are covid19, pneumonia, and gastroenteritis, with case counts of 319, 147, and 589, respectively. \n",
      "\n",
      "The most effective interventions for these diseases are contact tracing for gastroenteritis with an average effectiveness of 0.8596, mask mandate for covid19 with an average effectiveness of 0.7236, and vaccination campaign for pneumonia with an average effectiveness of 0.6929. \n",
      "\n",
      "It's worth noting that other interventions such as quarantine for meningitis, public awareness for malaria and pneumonia, and sanitization drive for food poisoning also show varying degrees of effectiveness. However, the data suggests that targeted interventions like contact tracing, mask mandates, and vaccination campaigns may be the most effective in reducing the spread of diseases with fever and respiratory symptoms.\n",
      "--------------------------------------------------\n"
     ]
    }
   ],
   "source": [
    "ask_question(\"Can you analyze the data for patients who presented with fever and respiratory symptoms in the last 3 months, showing which diseases were most commonly diagnosed and what interventions were most effective?\")"
   ]
  },
  {
   "cell_type": "code",
   "execution_count": 178,
   "id": "6a438130",
   "metadata": {},
   "outputs": [
    {
     "name": "stdout",
     "output_type": "stream",
     "text": [
      "\n",
      "\n",
      "\u001b[1m> Entering new GraphCypherQAChain chain...\u001b[0m\n",
      "Generated Cypher:\n",
      "\u001b[32;1m\u001b[1;3mcypher\n",
      "MATCH (c:Case)-[:DIAGNOSED_WITH]->(d:Disease),\n",
      "      (c)-[:OCCURRED_IN]->(r:Region {name: 'coastal_region'}),\n",
      "      (c)-[:REPORTED_IN_YEAR]->(y:Year),\n",
      "      (c)-[:AFFECTED_BY]->(i:Intervention)\n",
      "WHERE y.year = date().year - 1\n",
      "WITH d.name AS disease_name, count(c) AS case_count, i.type AS intervention_type, avg(i.effectivenessScore) AS avg_effectiveness\n",
      "ORDER BY case_count DESC, avg_effectiveness DESC\n",
      "RETURN disease_name, intervention_type, avg_effectiveness\n",
      "LIMIT 1\n",
      "\u001b[0m\n",
      "Full Context:\n",
      "\u001b[32;1m\u001b[1;3m[{'disease_name': 'malaria', 'intervention_type': 'public_awareness', 'avg_effectiveness': 0.3481607436976009}]\u001b[0m\n",
      "\n",
      "\u001b[1m> Finished chain.\u001b[0m\n",
      "❓ Question: What was the most common disease reported in the coastal region in the last year, and what were the most effective interventions for it?\n",
      "🤖 Answer: The most common disease reported was malaria. One of the most effective interventions for malaria was public awareness, with an average effectiveness of 34.82%.\n",
      "--------------------------------------------------\n"
     ]
    }
   ],
   "source": [
    "ask_question(\"What was the most common disease reported in the coastal region in the last year, and what were the most effective interventions for it?\")"
   ]
  }
 ],
 "metadata": {
  "kernelspec": {
   "display_name": "kermitenv",
   "language": "python",
   "name": "python3"
  },
  "language_info": {
   "codemirror_mode": {
    "name": "ipython",
    "version": 3
   },
   "file_extension": ".py",
   "mimetype": "text/x-python",
   "name": "python",
   "nbconvert_exporter": "python",
   "pygments_lexer": "ipython3",
   "version": "3.10.0"
  }
 },
 "nbformat": 4,
 "nbformat_minor": 5
}
